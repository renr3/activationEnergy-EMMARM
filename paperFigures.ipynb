{
 "cells": [
  {
   "attachments": {},
   "cell_type": "markdown",
   "metadata": {},
   "source": [
    "# Import libraries"
   ]
  },
  {
   "cell_type": "code",
   "execution_count": 1,
   "metadata": {},
   "outputs": [],
   "source": [
    "import EMMARM_activationEnergyModule as emmarm\n",
    "import matplotlib.pyplot as plt\n",
    "import matplotlib.ticker as ticker\n",
    "import matplotlib\n",
    "#matplotlib.use('QtAgg')\n",
    "#%matplotlib inline  \n",
    "plt.style.use('tableau-colorblind10')\n",
    "cm = 1/2.54  # centimeters in inches for plots\n",
    "densityFactor=1  "
   ]
  },
  {
   "cell_type": "code",
   "execution_count": 2,
   "metadata": {},
   "outputs": [
    {
     "data": {
      "text/plain": [
       "'C:\\\\Users\\\\renan\\\\AppData\\\\Local\\\\Packages\\\\PythonSoftwareFoundation.Python.3.11_qbz5n2kfra8p0\\\\LocalCache\\\\local-packages\\\\Python311\\\\site-packages\\\\matplotlib\\\\mpl-data\\\\fonts\\\\ttf\\\\DejaVuSans.ttf'"
      ]
     },
     "execution_count": 2,
     "metadata": {},
     "output_type": "execute_result"
    }
   ],
   "source": [
    "from matplotlib.font_manager import findfont, FontProperties\n",
    "font = findfont(FontProperties(family=['sans-serif']))\n",
    "font"
   ]
  },
  {
   "attachments": {},
   "cell_type": "markdown",
   "metadata": {},
   "source": [
    "# Define file path of experimental result files"
   ]
  },
  {
   "attachments": {},
   "cell_type": "markdown",
   "metadata": {},
   "source": [
    "Adjust the paths of the experimental file to the paths in your computer. Be sure to use the correct slash (\"/\")"
   ]
  },
  {
   "cell_type": "code",
   "execution_count": 3,
   "metadata": {},
   "outputs": [],
   "source": [
    "#Cement paste specimens\n",
    "#Specimen EMMcp16\n",
    "cementPaste_Temperature_cp16 = open('C:/Users/renan/OneDrive/Renan/Engenharia Civil/Artigos/2023-ToBeDefined-ActivationEnergy/02-DATA_PROCESSING/rawData/EMMcp16_temperature.csv')\n",
    "cementPaste_Modulus_cp16 = open('C:/Users/renan/OneDrive/Renan/Engenharia Civil/Artigos/2023-ToBeDefined-ActivationEnergy/02-DATA_PROCESSING/rawData/EMMcp16_elasticmodulus.csv')\n",
    "#Specimen EMMcp31\n",
    "cementPaste_Temperature_cp31 = open('C:/Users/renan/OneDrive/Renan/Engenharia Civil/Artigos/2023-ToBeDefined-ActivationEnergy/02-DATA_PROCESSING/rawData/EMMcp31_temperature.csv')\n",
    "cementPaste_Modulus_cp31 = open('C:/Users/renan/OneDrive/Renan/Engenharia Civil/Artigos/2023-ToBeDefined-ActivationEnergy/02-DATA_PROCESSING/rawData/EMMcp31_elasticmodulus.csv')\n",
    "#Specimen EMMcp40\n",
    "cementPaste_Temperature_cp40 = open('C:/Users/renan/OneDrive/Renan/Engenharia Civil/Artigos/2023-ToBeDefined-ActivationEnergy/02-DATA_PROCESSING/rawData/EMMcp40_temperature.csv')\n",
    "cementPaste_Modulus_cp40 = open('C:/Users/renan/OneDrive/Renan/Engenharia Civil/Artigos/2023-ToBeDefined-ActivationEnergy/02-DATA_PROCESSING/rawData/EMMcp40_elasticmodulus.csv')\n",
    "\n",
    "#Concrete specimens\n",
    "#Specimen EMMc20\n",
    "concrete_Temperature_c20 = open('C:/Users/renan/OneDrive/Renan/Engenharia Civil/Artigos/2023-ToBeDefined-ActivationEnergy/02-DATA_PROCESSING/rawData/EMMc20_temperature.csv')\n",
    "concrete_Modulus_c20 = open('C:/Users/renan/OneDrive/Renan/Engenharia Civil/Artigos/2023-ToBeDefined-ActivationEnergy/02-DATA_PROCESSING/rawData/EMMc20_elasticmodulus.csv')\n",
    "concrete_Modulus_CC_c20 = open('C:/Users/renan/OneDrive/Renan/Engenharia Civil/Artigos/2023-ToBeDefined-ActivationEnergy/02-DATA_PROCESSING/rawData/EMMc20_elasticmodulus-CC.csv')\n",
    "#Specimen EMMc30\n",
    "concrete_Temperature_c30 = open('C:/Users/renan/OneDrive/Renan/Engenharia Civil/Artigos/2023-ToBeDefined-ActivationEnergy/02-DATA_PROCESSING/rawData/EMMc30_temperature.csv')\n",
    "concrete_Modulus_c30 = open('C:/Users/renan/OneDrive/Renan/Engenharia Civil/Artigos/2023-ToBeDefined-ActivationEnergy/02-DATA_PROCESSING/rawData/EMMc30_elasticmodulus.csv')\n",
    "concrete_Modulus_CC_c30 = open('C:/Users/renan/OneDrive/Renan/Engenharia Civil/Artigos/2023-ToBeDefined-ActivationEnergy/02-DATA_PROCESSING/rawData/EMMc30_elasticmodulus-CC.csv')\n",
    "#Specimen EMMc40\n",
    "concrete_Temperature_c40 = open('C:/Users/renan/OneDrive/Renan/Engenharia Civil/Artigos/2023-ToBeDefined-ActivationEnergy/02-DATA_PROCESSING/rawData/EMMc40_temperature.csv')\n",
    "concrete_Modulus_c40 = open('C:/Users/renan/OneDrive/Renan/Engenharia Civil/Artigos/2023-ToBeDefined-ActivationEnergy/02-DATA_PROCESSING/rawData/EMMc40_elasticmodulus.csv')\n",
    "concrete_Modulus_CC_c40 = open('C:/Users/renan/OneDrive/Renan/Engenharia Civil/Artigos/2023-ToBeDefined-ActivationEnergy/02-DATA_PROCESSING/rawData/EMMc40_elasticmodulus-CC.csv')\n"
   ]
  },
  {
   "attachments": {},
   "cell_type": "markdown",
   "metadata": {},
   "source": [
    "# Instantiate *emmarm* and *experiment* objects"
   ]
  },
  {
   "cell_type": "code",
   "execution_count": 4,
   "metadata": {},
   "outputs": [],
   "source": [
    "#Define specimens\n",
    "EMMcp16 = emmarm.EMMARMspecimen(\"cp16\")\n",
    "EMMcp31 = emmarm.EMMARMspecimen(\"cp31\")\n",
    "EMMcp40 = emmarm.EMMARMspecimen(\"cp40\")\n",
    "EMMc20 = emmarm.EMMARMspecimen(\"c20\")\n",
    "EMMc30 = emmarm.EMMARMspecimen(\"c30\")\n",
    "EMMc40 = emmarm.EMMARMspecimen(\"c40\")\n",
    "\n",
    "#Define experiments\n",
    "expCementPaste=emmarm.experiment_EMMARM(\"expCementPaste\",[EMMcp16, EMMcp31, EMMcp40])\n",
    "expConcrete=emmarm.experiment_EMMARM(\"expConcrete\",[EMMc20, EMMc30, EMMc40])"
   ]
  },
  {
   "attachments": {},
   "cell_type": "markdown",
   "metadata": {},
   "source": [
    "# Read experimental files"
   ]
  },
  {
   "cell_type": "code",
   "execution_count": 5,
   "metadata": {},
   "outputs": [],
   "source": [
    "#Read cement paste experimental files\n",
    "EMMcp16.readProcessedTestData(cementPaste_Modulus_cp16, \"elasticModulus\")\n",
    "EMMcp16.readProcessedTestData(cementPaste_Temperature_cp16, \"temperature\")\n",
    "EMMcp31.readProcessedTestData(cementPaste_Modulus_cp31, \"elasticModulus\")\n",
    "EMMcp31.readProcessedTestData(cementPaste_Temperature_cp31, \"temperature\")\n",
    "EMMcp40.readProcessedTestData(cementPaste_Modulus_cp40, \"elasticModulus\")\n",
    "EMMcp40.readProcessedTestData(cementPaste_Temperature_cp40, \"temperature\")\n",
    "\n",
    "#Read concrete experimental files\n",
    "EMMc20.readProcessedTestData(concrete_Modulus_c20, \"elasticModulus\")\n",
    "EMMc20.readProcessedTestData(concrete_Temperature_c20, \"temperature\")\n",
    "EMMc20.readProcessedTestData(concrete_Modulus_CC_c20, \"classicCompression\")\n",
    "EMMc30.readProcessedTestData(concrete_Modulus_c30, \"elasticModulus\")\n",
    "EMMc30.readProcessedTestData(concrete_Temperature_c30, \"temperature\")\n",
    "EMMc30.readProcessedTestData(concrete_Modulus_CC_c30, \"classicCompression\")\n",
    "EMMc40.readProcessedTestData(concrete_Modulus_c40, \"elasticModulus\")\n",
    "EMMc40.readProcessedTestData(concrete_Temperature_c40, \"temperature\")\n",
    "EMMc40.readProcessedTestData(concrete_Modulus_CC_c40, \"classicCompression\")"
   ]
  },
  {
   "attachments": {},
   "cell_type": "markdown",
   "metadata": {},
   "source": [
    "### Do not run this automatically: Miscellaneous test with an artificial constant temperature, to see effect on activation energy and equivalent age calculation"
   ]
  },
  {
   "cell_type": "code",
   "execution_count": null,
   "metadata": {},
   "outputs": [],
   "source": [
    "import numpy as np\n",
    "\n",
    "for specimen in expCementPaste.testSpecimensList:\n",
    "    meanTemperature = np.mean(specimen.testTemperatureSeries)\n",
    "    for index, temperature in enumerate(specimen.testTemperatureSeries):\n",
    "        specimen.testTemperatureSeries[index]=meanTemperature\n",
    "\n",
    "for specimen in expConcrete.testSpecimensList:\n",
    "    meanTemperature = np.mean(specimen.testTemperatureSeries)\n",
    "    for index, temperature in enumerate(specimen.testTemperatureSeries):\n",
    "        specimen.testTemperatureSeries[index]=meanTemperature"
   ]
  },
  {
   "attachments": {},
   "cell_type": "markdown",
   "metadata": {},
   "source": [
    "# Process experimental data"
   ]
  },
  {
   "attachments": {},
   "cell_type": "markdown",
   "metadata": {},
   "source": [
    "Use the experimental elastic modulus time series to obtain estimates from the fitted model"
   ]
  },
  {
   "cell_type": "code",
   "execution_count": 6,
   "metadata": {},
   "outputs": [
    {
     "name": "stderr",
     "output_type": "stream",
     "text": [
      "c:\\Users\\renan\\OneDrive\\Renan\\Engenharia Civil\\Artigos\\2023-ToBeDefined-ActivationEnergy\\02-DATA_PROCESSING\\EMMARM_activationEnergyModule.py:271: RuntimeWarning: invalid value encountered in power\n",
      "  f = f + α*np.exp(-(𝜏/t)**β)\n",
      "c:\\Users\\renan\\OneDrive\\Renan\\Engenharia Civil\\Artigos\\2023-ToBeDefined-ActivationEnergy\\02-DATA_PROCESSING\\EMMARM_activationEnergyModule.py:271: RuntimeWarning: overflow encountered in power\n",
      "  f = f + α*np.exp(-(𝜏/t)**β)\n"
     ]
    }
   ],
   "source": [
    "#Pre-process cement paste specimens\n",
    "EMMcp16.fitEvolutionCurve(numberOfComponents=2)   \n",
    "EMMcp16.computeFromFittedModel() \n",
    "EMMcp31.fitEvolutionCurve(numberOfComponents=2)\n",
    "EMMcp31.computeFromFittedModel() \n",
    "EMMcp40.fitEvolutionCurve(numberOfComponents=2)\n",
    "EMMcp40.computeFromFittedModel() \n",
    "\n",
    "#Pre-process concrete specimens\n",
    "EMMc20.fitEvolutionCurve(numberOfComponents=2)   \n",
    "EMMc20.computeFromFittedModel() \n",
    "EMMc30.fitEvolutionCurve(numberOfComponents=2)\n",
    "EMMc30.computeFromFittedModel() \n",
    "EMMc40.fitEvolutionCurve(numberOfComponents=2)\n",
    "EMMc40.computeFromFittedModel() "
   ]
  },
  {
   "attachments": {},
   "cell_type": "markdown",
   "metadata": {},
   "source": [
    "Plot statistical information about the fit: standard errors and normalized root mean squared error (NRMSE)"
   ]
  },
  {
   "cell_type": "code",
   "execution_count": 7,
   "metadata": {},
   "outputs": [
    {
     "name": "stdout",
     "output_type": "stream",
     "text": [
      "Cement paste specimen\n",
      "---------------------\n",
      "RMSE;α1; β1; 𝜏1; α2; β2; 𝜏2; α1_error; β1_error; 𝜏1_error; alpha2_error; β2_error; 𝜏2_error;α1_cov; β1_cov; 𝜏1_cov; α2_cov; β2_cov; 𝜏2_cov\n",
      "0.021779143347635716; 8.532286996004922; 1.2540436346665995; 1.4053305623066525; 0.7136760254626847; 2.435308401505996; 4.540397862144363; 0.06067997753450426; 0.008806737085409728; 0.008699741143159176; 0.0664201687423251; 0.16442692054303465; 0.07437853037008677; 0.007111806900414448; 0.007022671972455799; 0.006190530097687319; 0.09306767548939887; 0.06751790468975222; 0.016381500614785084;\n",
      "0.01757338090691405; 3.6161654098253764; 2.522735783130306; 0.5596758710394332; 6.616109164191956; 0.7913699101563197; 1.227160424815313; 0.06424680110276808; 0.028153010229042073; 0.0012107748452177146; 0.04179430768264681; 0.0074664900650888615; 0.019428193196675228; 0.01776655485067276; 0.011159714155284528; 0.0021633500886308653; 0.006317052310570705; 0.009434892544264164; 0.015831828344365948;\n",
      "0.0146759851849959; 4.527398814107115; 1.1697433972910425; 2.0382261799437393; 5.824397721637926; 2.382552625327382; 0.3373461773835934; 0.04051272782249467; 0.008644614844643352; 0.013077799469614055; 0.02905421882672732; 0.016550336024879687; 0.0008079759049533405; 0.0089483452830043; 0.007390180499982336; 0.006416265082992427; 0.0049883644996957304; 0.006946472388036146; 0.002395094295183307;\n",
      "\n",
      "Concrete specimen\n",
      "---------------------\n",
      "α1; β1; 𝜏1; α2; β2; 𝜏2; α1_error; β1_error; 𝜏1_error; α2_error; β2_error; 𝜏2_error;α1_cov; β1_cov; 𝜏1_cov; α2_cov; β2_cov; 𝜏2_cov\n",
      "0.011347372454515994; 19.081230093866107; 0.5803306035170047; 1.4270404767254745; 21.267965911830363; 2.321667727153673; 0.4116985927144087; 0.28333209095863077; 0.012906686467180108; 0.07918212309860684; 0.4049128994766279; 0.037528059071899315; 0.00156343454065318; 0.01484873299912207; 0.022240230635711976; 0.05548694966263344; 0.019038628383892323; 0.016164267880791068; 0.003797522188125912;\n",
      "0.011855811567730312; 20.279324431939404; 3.19843573694768; 0.28422490564614034; 17.71664660191833; 0.7400579329543099; 0.7120999023099742; 0.34412191937094433; 0.05165197679875481; 0.0007952728822022856; 0.26640001163348437; 0.014667521256126796; 0.0259993473669426; 0.01696910173343651; 0.016149136967825134; 0.0027980407993956707; 0.015036706303360986; 0.01981942305188741; 0.03651081439922062;\n",
      "0.011286381536028173; 20.79508353325645; 3.897715419696296; 0.19102613587427025; 16.521576475640114; 0.7518239839082704; 0.571299669199889; 0.20127977873962208; 0.041799163176898406; 0.0003309988184858476; 0.18656952130052418; 0.008057133344500821; 0.014512144742793219; 0.009679200298365056; 0.010724016167438753; 0.001732741004109012; 0.011292476936181461; 0.010716781476718448; 0.025401983451377848;\n"
     ]
    }
   ],
   "source": [
    "import numpy as np\n",
    "from sklearn.metrics import mean_squared_error\n",
    "\n",
    "# Define a function to calculate the RMSE\n",
    "def rmse(experimentalPoints, fittedPoints):\n",
    "    mse = np.sqrt(mean_squared_error(experimentalPoints, fittedPoints))\n",
    "    norm_factor = np.max(experimentalPoints) - np.min(experimentalPoints)\n",
    "    return np.sqrt(mse) / norm_factor\n",
    "\n",
    "print(\"Cement paste specimen\")\n",
    "print(\"---------------------\")\n",
    "print(\"RMSE;α1; β1; 𝜏1; α2; β2; 𝜏2; α1_error; β1_error; 𝜏1_error; alpha2_error; β2_error; 𝜏2_error;α1_cov; β1_cov; 𝜏1_cov; α2_cov; β2_cov; 𝜏2_cov\")\n",
    "for specimen in expCementPaste.testSpecimensList:\n",
    "    RMSE = rmse(specimen.testElasticModulusSeries, specimen.fittedElasticModulus)\n",
    "    parameters=np.array([value for value in [specimen.fittedEquationParameters[parameter] for parameter in specimen.fittedEquationParameters]])\n",
    "    print(*[str(value)+\";\" for value in np.concatenate(([RMSE],parameters,specimen.fittedStandardError,specimen.fittedStandardError/parameters))])\n",
    "\n",
    "print(\"\")\n",
    "\n",
    "print(\"Concrete specimen\")\n",
    "print(\"---------------------\")\n",
    "print(\"α1; β1; 𝜏1; α2; β2; 𝜏2; α1_error; β1_error; 𝜏1_error; α2_error; β2_error; 𝜏2_error;α1_cov; β1_cov; 𝜏1_cov; α2_cov; β2_cov; 𝜏2_cov\")\n",
    "for specimen in expConcrete.testSpecimensList:\n",
    "    RMSE = rmse(specimen.testElasticModulusSeries, specimen.fittedElasticModulus)\n",
    "    parameters=np.array([value for value in [specimen.fittedEquationParameters[parameter] for parameter in specimen.fittedEquationParameters]])\n",
    "    print(*[str(value)+\";\" for value in np.concatenate(([RMSE],parameters,specimen.fittedStandardError,specimen.fittedStandardError/parameters))])"
   ]
  },
  {
   "attachments": {},
   "cell_type": "markdown",
   "metadata": {},
   "source": [
    "Use the experimental temperature times series to obtain estimates from the fitted model"
   ]
  },
  {
   "cell_type": "code",
   "execution_count": 8,
   "metadata": {},
   "outputs": [
    {
     "name": "stderr",
     "output_type": "stream",
     "text": [
      "c:\\Users\\renan\\OneDrive\\Renan\\Engenharia Civil\\Artigos\\2023-ToBeDefined-ActivationEnergy\\02-DATA_PROCESSING\\EMMARM_activationEnergyModule.py:271: RuntimeWarning: invalid value encountered in power\n",
      "  f = f + α*np.exp(-(𝜏/t)**β)\n",
      "c:\\Users\\renan\\OneDrive\\Renan\\Engenharia Civil\\Artigos\\2023-ToBeDefined-ActivationEnergy\\02-DATA_PROCESSING\\EMMARM_activationEnergyModule.py:271: RuntimeWarning: overflow encountered in power\n",
      "  f = f + α*np.exp(-(𝜏/t)**β)\n"
     ]
    }
   ],
   "source": [
    "#Pre-process cement paste specimens\n",
    "EMMcp16.fitEvolutionCurve(numberOfComponents=2)   \n",
    "EMMcp16.computeFromFittedModel(timeSeries = EMMcp16.testTimeSeries_temperature) \n",
    "EMMcp31.fitEvolutionCurve(numberOfComponents=2)\n",
    "EMMcp31.computeFromFittedModel(timeSeries = EMMcp31.testTimeSeries_temperature) \n",
    "EMMcp40.fitEvolutionCurve(numberOfComponents=2)\n",
    "EMMcp40.computeFromFittedModel(timeSeries = EMMcp40.testTimeSeries_temperature) \n",
    "\n",
    "#Pre-process concrete specimens\n",
    "EMMc20.fitEvolutionCurve(numberOfComponents=2)   \n",
    "EMMc20.computeFromFittedModel(timeSeries = EMMc20.testTimeSeries_temperature) \n",
    "EMMc30.fitEvolutionCurve(numberOfComponents=2)\n",
    "EMMc30.computeFromFittedModel(timeSeries = EMMc30.testTimeSeries_temperature) \n",
    "EMMc40.fitEvolutionCurve(numberOfComponents=2)\n",
    "EMMc40.computeFromFittedModel(timeSeries = EMMc40.testTimeSeries_temperature) "
   ]
  },
  {
   "cell_type": "code",
   "execution_count": 9,
   "metadata": {},
   "outputs": [],
   "source": [
    "#Estimate activation energy\n",
    "expCementPaste.computeActivationEnergy_SpeedMethod()\n",
    "expCementPaste.computeActivationEnergy_DerivativeMethod()"
   ]
  },
  {
   "cell_type": "code",
   "execution_count": 10,
   "metadata": {},
   "outputs": [],
   "source": [
    "expConcrete.computeActivationEnergy_SpeedMethod()\n",
    "expConcrete.computeActivationEnergy_DerivativeMethod()"
   ]
  },
  {
   "attachments": {},
   "cell_type": "markdown",
   "metadata": {},
   "source": [
    "# Plot figures"
   ]
  },
  {
   "attachments": {},
   "cell_type": "markdown",
   "metadata": {},
   "source": [
    "## 4.1 - Temperature history"
   ]
  },
  {
   "cell_type": "code",
   "execution_count": null,
   "metadata": {},
   "outputs": [],
   "source": [
    "def printTemperatureData_2plot(expCementPaste, expConcrete, densityFactor, degreeInX=False, zoomPortionCementPaste=False, zoomXValueLimitCementPaste=1, zoomPortionConcrete=False, zoomXValueLimitConcrete=1):    \n",
    "    #Create a subplot\n",
    "    fig, (ax1, ax2) = plt.subplots(1,2, figsize=(15*cm, 9*cm))\n",
    "    fig.set_tight_layout(True)\n",
    "    #Cement paste axis\n",
    "    if zoomPortionCementPaste==True:\n",
    "        axins = ax1.inset_axes([0.6, 0.16, 0.37, 0.35])\n",
    "    for specimen in expCementPaste.testSpecimensList:\n",
    "        if degreeInX is False:\n",
    "            x=specimen.testTimeSeries_temperature\n",
    "            y=specimen.testTemperatureSeries\n",
    "        else:\n",
    "            x=specimen.fittedAdvancementDegree\n",
    "            y=specimen.interpolateTemperatureSeries(specimen.fittedTimeSeries)\n",
    "        ax1.scatter(x[::densityFactor],y[::densityFactor], label=specimen.specimenID, s=5)\n",
    "        if zoomPortionCementPaste==True:\n",
    "            maxInsetValue=findClosestIndex(x,0.5)\n",
    "            axins.scatter(x[0:maxInsetValue:densityFactor], y[0:maxInsetValue:densityFactor],s=5, label=None)\n",
    "    #plt.semilogx()\n",
    "    if degreeInX is False:\n",
    "        ax1.set_xlabel(\"Time (days)\")\n",
    "    else: \n",
    "        ax1.set_xlabel(\"Degree of advancement (-)\")\n",
    "    ax1.set_ylabel(\"Temperature (°C)\")\n",
    "    ax1.set_ylim([15,45])                         \n",
    "    if zoomPortionCementPaste==True:\n",
    "        ax1.indicate_inset_zoom(axins, edgecolor=\"grey\")\n",
    "    ax1.legend(loc='upper center', bbox_to_anchor=(0.5, -0.2),\n",
    "            frameon=True, ncol=3, columnspacing=0, handletextpad=0, labelspacing=0, handleheight=0)\n",
    "    #ax.indicate_inset_zoom(axins, edgecolor=\"black\")\n",
    "\n",
    "    #Concrete axis\n",
    "    if zoomPortionConcrete==True:\n",
    "        axins2 = ax2.inset_axes([0.58, 0.58, 0.38, 0.38])\n",
    "    for specimen in expConcrete.testSpecimensList:\n",
    "        if degreeInX is False:\n",
    "            x=specimen.testTimeSeries_temperature\n",
    "            y=specimen.testTemperatureSeries\n",
    "        else:\n",
    "            x=specimen.fittedAdvancementDegree\n",
    "            y=specimen.interpolateTemperatureSeries(specimen.fittedTimeSeries)\n",
    "        y=specimen.testTemperatureSeries\n",
    "        ax2.scatter(x[::densityFactor],y[::densityFactor], label=specimen.specimenID, s=5)\n",
    "        if zoomPortionConcrete==True:\n",
    "            maxInsetValue=findClosestIndex(x,0.5)\n",
    "            axins2.scatter(x[0:maxInsetValue], y[0:maxInsetValue],s=5, label=None)\n",
    "    #plt.semilogx()\n",
    "    if degreeInX is False:\n",
    "        ax2.set_xlabel(\"Time (days)\")\n",
    "    else: \n",
    "        ax2.set_xlabel(\"Degree of advancement (-)\")\n",
    "    ax2.set_ylabel(\"Temperature (°C)\")\n",
    "    ax2.set_ylim([15,45])                     \n",
    "    if zoomPortionConcrete==True:\n",
    "        axins2.set_ylim([15,45]) \n",
    "        ax2.indicate_inset_zoom(axins2, edgecolor=\"grey\")\n",
    "    ax2.legend(loc='upper center', bbox_to_anchor=(0.5, -0.2),\n",
    "            frameon=True, ncol=3, columnspacing=0, handletextpad=0, labelspacing=0, handleheight=0) \n",
    "        #leg=ax2.legend( loc=\"center right\", bbox_to_anchor=(0.95,0.3), frameon=False, columnspacing=0, handletextpad=0, labelspacing=0, handleheight=0, borderaxespad=0, borderpad=0)\n",
    "    \n",
    "    ax1.set_axisbelow(True)\n",
    "    ax2.set_axisbelow(True)\n",
    "    ax1.grid(which='both', axis='both', linestyle='-', color='whitesmoke') \n",
    "    ax2.grid(which='both', axis='both', linestyle='-', color='whitesmoke') \n",
    "    plt.show()\n",
    "    \n",
    "def printTemperatureData_1plot(expCementPaste, expConcrete, densityFactor, degreeInX=False, zoomPortionCementPaste=False, zoomXValueLimitCementPaste=1, zoomPortionConcrete=False, zoomXValueLimitConcrete=1):    \n",
    "    #Create a subplot\n",
    "    fig, ax1 = plt.subplots(1, figsize=(15*cm, 9*cm))\n",
    "    fig.set_tight_layout(True)\n",
    "    #Cement paste axis\n",
    "    if zoomPortionCementPaste==True:\n",
    "        axins = ax1.inset_axes([0.6, 0.16, 0.37, 0.35])\n",
    "    for specimen in expCementPaste.testSpecimensList:\n",
    "        if degreeInX is False:\n",
    "            x=specimen.testTimeSeries_temperature\n",
    "            y=specimen.testTemperatureSeries\n",
    "        else:\n",
    "            x=specimen.fittedAdvancementDegree\n",
    "            y=specimen.interpolateTemperatureSeries(specimen.fittedTimeSeries)\n",
    "        y=specimen.testTemperatureSeries\n",
    "        ax1.scatter(x[::densityFactor],y[::densityFactor], label=specimen.specimenID, s=5)\n",
    "        if zoomPortionCementPaste==True:\n",
    "            maxInsetValue=findClosestIndex(x,0.5)\n",
    "            axins.scatter(x[0:maxInsetValue:densityFactor], y[0:maxInsetValue:densityFactor],s=5, label=None)\n",
    "    #plt.semilogx()\n",
    "    if degreeInX is False:\n",
    "        ax1.set_xlabel(\"Time (days)\")\n",
    "    else: \n",
    "        ax1.set_xlabel(\"Degree of advancement (-)\")\n",
    "    ax1.set_ylabel(\"Temperature (°C)\")\n",
    "    ax1.set_ylim([15,45])                         \n",
    "    if zoomPortionCementPaste==True:\n",
    "        ax1.indicate_inset_zoom(axins, edgecolor=\"grey\")\n",
    "    #ax.indicate_inset_zoom(axins, edgecolor=\"black\")\n",
    "\n",
    "    #Concrete axis\n",
    "    if zoomPortionConcrete==True:\n",
    "        axins2 = ax1.inset_axes([0.58, 0.58, 0.38, 0.38])\n",
    "    for specimen in expConcrete.testSpecimensList:\n",
    "        if degreeInX is False:\n",
    "            x=specimen.testTimeSeries_temperature\n",
    "            y=specimen.testTemperatureSeries\n",
    "        else:\n",
    "            x=specimen.fittedAdvancementDegree\n",
    "            y=specimen.interpolateTemperatureSeries(specimen.fittedTimeSeries)\n",
    "        y=specimen.testTemperatureSeries\n",
    "        ax1.scatter(x[::densityFactor],y[::densityFactor],marker=\"s\",alpha=.5, label=specimen.specimenID, s=5)\n",
    "        if zoomPortionConcrete==True:\n",
    "            maxInsetValue=findClosestIndex(x,0.5)\n",
    "            axins2.scatter(x[0:maxInsetValue], y[0:maxInsetValue],s=5, label=None)\n",
    "    #plt.semilogx()\n",
    "    if degreeInX is False:\n",
    "        ax1.set_xlabel(\"Time (days)\")\n",
    "    else: \n",
    "        ax1.set_xlabel(\"Degree of advancement (-)\")\n",
    "    ax1.set_ylabel(\"Temperature (°C)\")\n",
    "    ax1.set_ylim([15,45])                     \n",
    "    if zoomPortionConcrete==True:\n",
    "        axins2.set_ylim([15,45]) \n",
    "        ax1.indicate_inset_zoom(axins2, edgecolor=\"grey\")\n",
    "\n",
    "    ax1.legend(loc='upper center', bbox_to_anchor=(0.5, -0.2),\n",
    "            frameon=True, ncol=3, columnspacing=0, handletextpad=0, labelspacing=0, handleheight=0) \n",
    "        #leg=ax2.legend( loc=\"center right\", bbox_to_anchor=(0.95,0.3), frameon=False, columnspacing=0, handletextpad=0, labelspacing=0, handleheight=0, borderaxespad=0, borderpad=0)\n",
    "    \n",
    "    ax1.set_axisbelow(True)\n",
    "    ax1.set_axisbelow(True)\n",
    "    ax1.grid(which='both', axis='both', linestyle='-', color='whitesmoke') \n",
    "    ax1.grid(which='both', axis='both', linestyle='-', color='whitesmoke') \n",
    "    plt.show()\n",
    "\n",
    "def findClosestIndex(list, value):\n",
    "    return min(range(len(list)), key=lambda i: abs(list[i]-value))"
   ]
  },
  {
   "cell_type": "code",
   "execution_count": null,
   "metadata": {},
   "outputs": [],
   "source": [
    "printTemperatureData_2plot(expCementPaste, expConcrete, densityFactor=10, zoomPortionCementPaste=False, zoomXValueLimitCementPaste=0.6,zoomPortionConcrete=False, zoomXValueLimitConcrete=0.6)"
   ]
  },
  {
   "cell_type": "code",
   "execution_count": null,
   "metadata": {},
   "outputs": [],
   "source": [
    "printTemperatureData_1plot(expCementPaste, expConcrete, densityFactor=10, zoomPortionCementPaste=False, zoomXValueLimitCementPaste=0.6,zoomPortionConcrete=False, zoomXValueLimitConcrete=0.6)"
   ]
  },
  {
   "attachments": {},
   "cell_type": "markdown",
   "metadata": {},
   "source": [
    "Plot temperature history indexed by degree of advancement"
   ]
  },
  {
   "cell_type": "code",
   "execution_count": null,
   "metadata": {},
   "outputs": [],
   "source": [
    "printTemperatureData_2plot(expCementPaste, expConcrete, densityFactor=1, degreeInX=True)"
   ]
  },
  {
   "attachments": {},
   "cell_type": "markdown",
   "metadata": {},
   "source": [
    "Get peak temperature and time"
   ]
  },
  {
   "cell_type": "code",
   "execution_count": null,
   "metadata": {},
   "outputs": [],
   "source": [
    "chosenSpecimen=EMMc20\n",
    "averageTemperature = np.mean(chosenSpecimen.testTemperatureSeries)\n",
    "maximumTemperature = max(chosenSpecimen.testTemperatureSeries)\n",
    "timeOfMaximumTemperature = chosenSpecimen.testTimeSeries_temperature[chosenSpecimen.testTemperatureSeries.index(maximumTemperature)]\n",
    "print(\"Average temperaturre of {:.2f} ºC, and maximum temperature of {:.2f} ºC occurring at {:.2f} seconds\".format(averageTemperature,maximumTemperature,timeOfMaximumTemperature*24*60))"
   ]
  },
  {
   "attachments": {},
   "cell_type": "markdown",
   "metadata": {},
   "source": [
    "## 4.2 - E-modulus raw history"
   ]
  },
  {
   "cell_type": "code",
   "execution_count": null,
   "metadata": {},
   "outputs": [],
   "source": [
    "def printEModulusData(expCementPaste, expConcrete, densityFactor):\n",
    "    #Print all data\n",
    "    prop_cycle = plt.rcParams['axes.prop_cycle']\n",
    "    colors = prop_cycle.by_key()['color']\n",
    "    index=0\n",
    "    \n",
    "    fig, ax1 = plt.subplots(figsize=(15*cm, 8*cm))\n",
    "    fig.set_tight_layout(True)\n",
    "    for specimen in expCementPaste.testSpecimensList:\n",
    "        x=specimen.testTimeSeries_elasticModulus\n",
    "        y=specimen.testElasticModulusSeries\n",
    "        ax1.scatter(x[::densityFactor],y[::densityFactor], label=specimen.specimenID, s=5)\n",
    "    ax2 = ax1.twinx()\n",
    "    axins = ax2.inset_axes([0.8, 0.1, 0.18, 0.35])\n",
    "    for specimen in expConcrete.testSpecimensList:\n",
    "        x=specimen.testTimeSeries_elasticModulus\n",
    "        y=specimen.testElasticModulusSeries\n",
    "        ax2.scatter(x[::densityFactor],y[::densityFactor], label=specimen.specimenID, s=10, marker='x')\n",
    "        axins.scatter(x[::densityFactor],y[::densityFactor], label=None, s=10, marker='x')\n",
    "        x_CC=specimen.classicCompression_Time\n",
    "        y_CC=specimen.classicCompression_Modulus\n",
    "        ax2.scatter(x_CC, y_CC, label=specimen.specimenID+'-CC', marker='d', color=colors[index], alpha=0.5)\n",
    "        axins.scatter(x_CC, y_CC, label=None, marker='d', color=colors[index], alpha=0.5)\n",
    "        index=index+1\n",
    "    ax1.semilogx()\n",
    "    \n",
    "    ax1.set_xlabel(\"Time (days)\")\n",
    "    ax1.set_ylabel(\"Cement paste E-modulus (GPa)\")\n",
    "    ax1.set_ylim([0,10])\n",
    "    ax2.set_ylabel(\"Concrete E-modulus (GPa)\")                            \n",
    "    ax2.set_ylim([0,40])\n",
    "    axins.set_ylim([35,40])\n",
    "    axins.set_xlim([10,30])\n",
    "    axins.grid(which='both', axis='both', linestyle='-', color='whitesmoke') \n",
    "    ax2.indicate_inset_zoom(axins, edgecolor=\"grey\")\n",
    "    h1, l1 = ax1.get_legend_handles_labels()\n",
    "    h2, l2 = ax2.get_legend_handles_labels()\n",
    "\n",
    "    leg=ax1.legend(h1+h2, l1+l2, loc=\"best\")\n",
    "\n",
    "    plt.show()"
   ]
  },
  {
   "attachments": {},
   "cell_type": "markdown",
   "metadata": {},
   "source": [
    "Get information about number of estimates from each EMM-ARM test"
   ]
  },
  {
   "cell_type": "code",
   "execution_count": null,
   "metadata": {},
   "outputs": [],
   "source": [
    "chosenSpecimen=EMMc40\n",
    "print(\"Number of estimates is \"+str(len(chosenSpecimen.testElasticModulusSeries)))"
   ]
  },
  {
   "attachments": {},
   "cell_type": "markdown",
   "metadata": {},
   "source": [
    "## 4.3 - Fitted models"
   ]
  },
  {
   "cell_type": "code",
   "execution_count": null,
   "metadata": {},
   "outputs": [],
   "source": [
    "def printFittedModelData(expCementPaste, expConcrete, densityFactor):\n",
    "    #Print all data\n",
    "    fig, ax1 = plt.subplots(figsize=(15*cm, 8*cm))\n",
    "    fig.set_tight_layout(True)\n",
    "    for specimen in expCementPaste.testSpecimensList:\n",
    "        x=specimen.testTimeSeries_elasticModulus\n",
    "        y=specimen.testElasticModulusSeries\n",
    "        ax1.scatter(x[::densityFactor],y[::densityFactor], label=None, s=5, alpha = 0.25)\n",
    "        x=specimen.fittedTimeSeries\n",
    "        y=specimen.fittedElasticModulus\n",
    "        ax1.plot(x[::densityFactor],y[::densityFactor], label=specimen.specimenID+\"-fit\")\n",
    "    ax2 = ax1.twinx()\n",
    "    for specimen in expConcrete.testSpecimensList:\n",
    "        x=specimen.testTimeSeries_elasticModulus\n",
    "        y=specimen.testElasticModulusSeries\n",
    "        ax2.scatter(x[::densityFactor],y[::densityFactor], label=None, s=10, marker='x', alpha = 0.25)\n",
    "        x=specimen.fittedTimeSeries\n",
    "        y=specimen.fittedElasticModulus\n",
    "        ax2.plot(x[::densityFactor],y[::densityFactor], '--', label=specimen.specimenID+\"-fit\")\n",
    "    plt.semilogx()\n",
    "    ax1.set_xlabel(\"Time (days)\")\n",
    "    ax1.set_ylabel(\"Cement paste E-modulus (GPa)\")\n",
    "    ax1.set_ylim([0,10])\n",
    "    ax2.set_ylabel(\"Concrete E-modulus (GPa)\")                            \n",
    "    ax2.set_ylim([0,40])\n",
    "    h1, l1 = ax1.get_legend_handles_labels()\n",
    "    h2, l2 = ax2.get_legend_handles_labels()\n",
    "    leg=ax1.legend(h1+h2, l1+l2, loc=\"upper left\")\n",
    "    \n",
    "    plt.show()"
   ]
  },
  {
   "cell_type": "code",
   "execution_count": null,
   "metadata": {},
   "outputs": [],
   "source": [
    "printFittedModelData(expCementPaste, expConcrete, densityFactor)"
   ]
  },
  {
   "attachments": {},
   "cell_type": "markdown",
   "metadata": {},
   "source": [
    "# Advancement degree"
   ]
  },
  {
   "cell_type": "code",
   "execution_count": null,
   "metadata": {},
   "outputs": [],
   "source": [
    "def printAdvancementDegree(expCementPaste, expConcrete, densityFactor):\n",
    "    #Print all data\n",
    "    fig, ax1 = plt.subplots(figsize=(15*cm, 8*cm))\n",
    "    fig.set_tight_layout(True)\n",
    "    for specimen in expCementPaste.testSpecimensList:\n",
    "        x=specimen.fittedTimeSeries\n",
    "        y=specimen.fittedAdvancementDegree\n",
    "        ax1.plot(x[::densityFactor],y[::densityFactor], label=specimen.specimenID)\n",
    "    for specimen in expConcrete.testSpecimensList:\n",
    "        x=specimen.fittedTimeSeries\n",
    "        y=specimen.fittedAdvancementDegree\n",
    "        ax1.plot(x[::densityFactor],y[::densityFactor], '--', label=specimen.specimenID)\n",
    "    plt.semilogx()\n",
    "    ax1.set_xlabel(\"Time (days)\")\n",
    "    ax1.set_ylabel(\"Degree of advancement (-)\")\n",
    "    ax1.set_ylim([0,1.05])\n",
    "    h1, l1 = ax1.get_legend_handles_labels()\n",
    "    leg=ax1.legend(h1, l1, loc=\"upper left\")\n",
    "    ax1.grid(which='both', axis='both', linestyle='-', color='whitesmoke') \n",
    "    plt.show()"
   ]
  },
  {
   "cell_type": "code",
   "execution_count": null,
   "metadata": {},
   "outputs": [],
   "source": [
    "printAdvancementDegree(expCementPaste, expConcrete, 1)"
   ]
  },
  {
   "attachments": {},
   "cell_type": "markdown",
   "metadata": {},
   "source": [
    "## 4.4 - Speed method"
   ]
  },
  {
   "cell_type": "code",
   "execution_count": null,
   "metadata": {},
   "outputs": [],
   "source": [
    "def printSpeedMethod(expCementPaste, curvesToDisplay_cement, expConcrete, curvesToDisplay_concrete, densityFactor, xmin=0.05):\n",
    "    #Print all data\n",
    "    fig, ax1 = plt.subplots(figsize=(15*cm, 10*cm))\n",
    "    fig.set_tight_layout(True)\n",
    "    for specimen in expCementPaste.activationEnergy_SpeedMethod:\n",
    "        if specimen in curvesToDisplay_cement:\n",
    "            x=expCementPaste.activationEnergy_SpeedMethod[specimen][:,0]\n",
    "            y=expCementPaste.activationEnergy_SpeedMethod[specimen][:,1]\n",
    "            ax1.plot(x[::densityFactor],y[::densityFactor], label=specimen)\n",
    "    for specimen in expConcrete.activationEnergy_SpeedMethod:\n",
    "        if specimen in curvesToDisplay_concrete:        \n",
    "            x=expConcrete.activationEnergy_SpeedMethod[specimen][:,0]\n",
    "            y=expConcrete.activationEnergy_SpeedMethod[specimen][:,1]\n",
    "            ax1.plot(x[::densityFactor],y[::densityFactor], \"--\", label=specimen)\n",
    "    plt.semilogx()\n",
    "    ax1.set_xlabel(\"Degree of advancement (-)\")\n",
    "    ax1.set_ylabel(\"Apparent activation energy\\n(kJ/mol)\")\n",
    "    ax1.set_ylim([0,120])\n",
    "    ax1.set_xlim([0,1])\n",
    "    h1, l1 = ax1.get_legend_handles_labels()\n",
    "    ax1.legend(h1, l1, loc='upper center', bbox_to_anchor=(0.5, -0.30),\n",
    "          frameon=False, ncol=3)\n",
    "    ax1.set_xlim([xmin,1])\n",
    "    ax1.xaxis.set_major_formatter(ticker.FormatStrFormatter('%.2f'))\n",
    "    ax1.xaxis.set_minor_formatter(ticker.FormatStrFormatter('%.2f'))\n",
    "    ax1.tick_params(axis=\"x\", which=\"both\", rotation=45)\n",
    "    ax1.grid(which='both', axis='both', linestyle='-', color='whitesmoke') \n",
    "    plt.show()"
   ]
  },
  {
   "cell_type": "code",
   "execution_count": null,
   "metadata": {},
   "outputs": [],
   "source": [
    "printSpeedMethod(expCementPaste, [\"cp16-cp31\",\"cp16-cp40\", \"cp31-cp40\"], expConcrete, [\"c20-c30\",\"c20-c40\", \"c30-c40\"], densityFactor, xmin=0.05)"
   ]
  },
  {
   "attachments": {},
   "cell_type": "markdown",
   "metadata": {},
   "source": [
    "Get average values of activation energy between degrees of advancement for speed method"
   ]
  },
  {
   "cell_type": "code",
   "execution_count": null,
   "metadata": {},
   "outputs": [],
   "source": [
    "intervalForDegrees = [0.05,0.5]\n",
    "activationEnergyKeyword = \"c30-c40\"\n",
    "experiment = expConcrete\n",
    "\n",
    "sum = 0\n",
    "iter = 0\n",
    "for point in experiment.activationEnergy_SpeedMethod[activationEnergyKeyword]:\n",
    "    if point[0] > intervalForDegrees[0] and point[0] < intervalForDegrees[1]:\n",
    "        sum = sum + point[1]\n",
    "        iter = iter + 1\n",
    "\n",
    "averageEa = sum/iter\n",
    "print(averageEa)"
   ]
  },
  {
   "attachments": {},
   "cell_type": "markdown",
   "metadata": {},
   "source": [
    "## 4.5 - Derivative of speed method and averaged speed method"
   ]
  },
  {
   "cell_type": "code",
   "execution_count": 15,
   "metadata": {},
   "outputs": [],
   "source": [
    "def printDerivativeMethod_averagedSpeedMethod(expCementPaste, curvesToDisplay_cement, expConcrete, curvesToDisplay_concrete, densityFactor):\n",
    "    #Print all data\n",
    "    fig, ax1 = plt.subplots(figsize=(15*cm, 10*cm))\n",
    "    fig.set_tight_layout(True)\n",
    "    #Plot derivative method\n",
    "    for specimen in expCementPaste.activationEnergy_DerivativeMethod:\n",
    "        if specimen in curvesToDisplay_cement:\n",
    "            x=[point[0] for point in expCementPaste.activationEnergy_DerivativeMethod[specimen]]\n",
    "            y=[point[1] for point in expCementPaste.activationEnergy_DerivativeMethod[specimen]]\n",
    "            ax1.plot(x[::densityFactor],y[::densityFactor], label=specimen + \" - 'derivative of speed'\")\n",
    "    for specimen in expConcrete.activationEnergy_DerivativeMethod:\n",
    "        if specimen in curvesToDisplay_concrete:        \n",
    "            x=[point[0] for point in expConcrete.activationEnergy_DerivativeMethod[specimen]]\n",
    "            y=[point[1] for point in expConcrete.activationEnergy_DerivativeMethod[specimen]]\n",
    "            ax1.plot(x[::densityFactor],y[::densityFactor], \"--\", label=specimen + \" - 'derivative of speed'\")\n",
    "    #Plot averaged speed method  \n",
    "    x=expCementPaste.activationEnergy_SpeedMethod_averaged[:,0]\n",
    "    y=expCementPaste.activationEnergy_SpeedMethod_averaged[:,1]\n",
    "    ax1.plot(x[::densityFactor],y[::densityFactor], label=\"cp16 - avg. 'speed'\")    \n",
    "    x=expConcrete.activationEnergy_SpeedMethod_averaged[:,0]\n",
    "    y=expConcrete.activationEnergy_SpeedMethod_averaged[:,1]\n",
    "    ax1.plot(x[::densityFactor],y[::densityFactor], \"--\", label=\"c20 - avg. 'speed'\")\n",
    "\n",
    "    plt.semilogx()\n",
    "    ax1.set_xlabel(\"Degree of advancement (-)\")\n",
    "    ax1.set_ylabel(\"Apparent activation energy\\n(kJ/mol)\")\n",
    "    ax1.set_ylim([0,80])\n",
    "    ax1.set_xlim([0,1])\n",
    "    h1, l1 = ax1.get_legend_handles_labels()\n",
    "    ax1.legend(h1, l1, loc='upper center', bbox_to_anchor=(0.5, -0.30),\n",
    "          frameon=False, ncol=2)\n",
    "    ax1.set_xlim([0.05,1])\n",
    "    ax1.xaxis.set_major_formatter(ticker.FormatStrFormatter('%.2f'))\n",
    "    ax1.xaxis.set_minor_formatter(ticker.FormatStrFormatter('%.2f'))\n",
    "    ax1.tick_params(axis=\"x\", which=\"both\", rotation=45)\n",
    "    ax1.grid(which='both', axis='both', linestyle='-', color='whitesmoke') \n",
    "    plt.show()"
   ]
  },
  {
   "cell_type": "code",
   "execution_count": 17,
   "metadata": {},
   "outputs": [
    {
     "name": "stderr",
     "output_type": "stream",
     "text": [
      "C:\\Users\\renan\\AppData\\Local\\Temp\\ipykernel_22284\\2838981883.py:28: UserWarning: Attempt to set non-positive xlim on a log-scaled axis will be ignored.\n",
      "  ax1.set_xlim([0,1])\n"
     ]
    },
    {
     "ename": "KeyboardInterrupt",
     "evalue": "",
     "output_type": "error",
     "traceback": [
      "\u001b[1;31m---------------------------------------------------------------------------\u001b[0m",
      "\u001b[1;31mKeyboardInterrupt\u001b[0m                         Traceback (most recent call last)",
      "Cell \u001b[1;32mIn[17], line 1\u001b[0m\n\u001b[1;32m----> 1\u001b[0m printDerivativeMethod_averagedSpeedMethod(expCementPaste, [\u001b[39m\"\u001b[39;49m\u001b[39mcp16\u001b[39;49m\u001b[39m\"\u001b[39;49m], expConcrete, [\u001b[39m\"\u001b[39;49m\u001b[39mc20\u001b[39;49m\u001b[39m\"\u001b[39;49m], \u001b[39m1\u001b[39;49m)\n",
      "Cell \u001b[1;32mIn[15], line 37\u001b[0m, in \u001b[0;36mprintDerivativeMethod_averagedSpeedMethod\u001b[1;34m(expCementPaste, curvesToDisplay_cement, expConcrete, curvesToDisplay_concrete, densityFactor)\u001b[0m\n\u001b[0;32m     35\u001b[0m ax1\u001b[39m.\u001b[39mtick_params(axis\u001b[39m=\u001b[39m\u001b[39m\"\u001b[39m\u001b[39mx\u001b[39m\u001b[39m\"\u001b[39m, which\u001b[39m=\u001b[39m\u001b[39m\"\u001b[39m\u001b[39mboth\u001b[39m\u001b[39m\"\u001b[39m, rotation\u001b[39m=\u001b[39m\u001b[39m45\u001b[39m)\n\u001b[0;32m     36\u001b[0m ax1\u001b[39m.\u001b[39mgrid(which\u001b[39m=\u001b[39m\u001b[39m'\u001b[39m\u001b[39mboth\u001b[39m\u001b[39m'\u001b[39m, axis\u001b[39m=\u001b[39m\u001b[39m'\u001b[39m\u001b[39mboth\u001b[39m\u001b[39m'\u001b[39m, linestyle\u001b[39m=\u001b[39m\u001b[39m'\u001b[39m\u001b[39m-\u001b[39m\u001b[39m'\u001b[39m, color\u001b[39m=\u001b[39m\u001b[39m'\u001b[39m\u001b[39mwhitesmoke\u001b[39m\u001b[39m'\u001b[39m) \n\u001b[1;32m---> 37\u001b[0m plt\u001b[39m.\u001b[39;49mshow()\n",
      "File \u001b[1;32m~\\AppData\\Local\\Packages\\PythonSoftwareFoundation.Python.3.11_qbz5n2kfra8p0\\LocalCache\\local-packages\\Python311\\site-packages\\matplotlib\\pyplot.py:446\u001b[0m, in \u001b[0;36mshow\u001b[1;34m(*args, **kwargs)\u001b[0m\n\u001b[0;32m    402\u001b[0m \u001b[39m\u001b[39m\u001b[39m\"\"\"\u001b[39;00m\n\u001b[0;32m    403\u001b[0m \u001b[39mDisplay all open figures.\u001b[39;00m\n\u001b[0;32m    404\u001b[0m \n\u001b[1;32m   (...)\u001b[0m\n\u001b[0;32m    443\u001b[0m \u001b[39mexplicitly there.\u001b[39;00m\n\u001b[0;32m    444\u001b[0m \u001b[39m\"\"\"\u001b[39;00m\n\u001b[0;32m    445\u001b[0m _warn_if_gui_out_of_main_thread()\n\u001b[1;32m--> 446\u001b[0m \u001b[39mreturn\u001b[39;00m _get_backend_mod()\u001b[39m.\u001b[39;49mshow(\u001b[39m*\u001b[39;49margs, \u001b[39m*\u001b[39;49m\u001b[39m*\u001b[39;49mkwargs)\n",
      "File \u001b[1;32m~\\AppData\\Local\\Packages\\PythonSoftwareFoundation.Python.3.11_qbz5n2kfra8p0\\LocalCache\\local-packages\\Python311\\site-packages\\matplotlib\\backend_bases.py:3620\u001b[0m, in \u001b[0;36m_Backend.show\u001b[1;34m(cls, block)\u001b[0m\n\u001b[0;32m   3618\u001b[0m     block \u001b[39m=\u001b[39m \u001b[39mnot\u001b[39;00m ipython_pylab \u001b[39mand\u001b[39;00m \u001b[39mnot\u001b[39;00m is_interactive()\n\u001b[0;32m   3619\u001b[0m \u001b[39mif\u001b[39;00m block:\n\u001b[1;32m-> 3620\u001b[0m     \u001b[39mcls\u001b[39;49m\u001b[39m.\u001b[39;49mmainloop()\n",
      "File \u001b[1;32m~\\AppData\\Local\\Packages\\PythonSoftwareFoundation.Python.3.11_qbz5n2kfra8p0\\LocalCache\\local-packages\\Python311\\site-packages\\matplotlib\\backends\\backend_qt.py:604\u001b[0m, in \u001b[0;36mFigureManagerQT.start_main_loop\u001b[1;34m(cls)\u001b[0m\n\u001b[0;32m    602\u001b[0m qapp \u001b[39m=\u001b[39m QtWidgets\u001b[39m.\u001b[39mQApplication\u001b[39m.\u001b[39minstance()\n\u001b[0;32m    603\u001b[0m \u001b[39mif\u001b[39;00m qapp:\n\u001b[1;32m--> 604\u001b[0m     \u001b[39mwith\u001b[39;49;00m _maybe_allow_interrupt(qapp):\n\u001b[0;32m    605\u001b[0m         qt_compat\u001b[39m.\u001b[39;49m_exec(qapp)\n",
      "File \u001b[1;32mC:\\Program Files\\WindowsApps\\PythonSoftwareFoundation.Python.3.11_3.11.1008.0_x64__qbz5n2kfra8p0\\Lib\\contextlib.py:144\u001b[0m, in \u001b[0;36m_GeneratorContextManager.__exit__\u001b[1;34m(self, typ, value, traceback)\u001b[0m\n\u001b[0;32m    142\u001b[0m \u001b[39mif\u001b[39;00m typ \u001b[39mis\u001b[39;00m \u001b[39mNone\u001b[39;00m:\n\u001b[0;32m    143\u001b[0m     \u001b[39mtry\u001b[39;00m:\n\u001b[1;32m--> 144\u001b[0m         \u001b[39mnext\u001b[39m(\u001b[39mself\u001b[39m\u001b[39m.\u001b[39mgen)\n\u001b[0;32m    145\u001b[0m     \u001b[39mexcept\u001b[39;00m \u001b[39mStopIteration\u001b[39;00m:\n\u001b[0;32m    146\u001b[0m         \u001b[39mreturn\u001b[39;00m \u001b[39mFalse\u001b[39;00m\n",
      "File \u001b[1;32m~\\AppData\\Local\\Packages\\PythonSoftwareFoundation.Python.3.11_qbz5n2kfra8p0\\LocalCache\\local-packages\\Python311\\site-packages\\matplotlib\\backends\\qt_compat.py:245\u001b[0m, in \u001b[0;36m_maybe_allow_interrupt\u001b[1;34m(qapp)\u001b[0m\n\u001b[0;32m    243\u001b[0m signal\u001b[39m.\u001b[39msignal(signal\u001b[39m.\u001b[39mSIGINT, old_sigint_handler)\n\u001b[0;32m    244\u001b[0m \u001b[39mif\u001b[39;00m handler_args \u001b[39mis\u001b[39;00m \u001b[39mnot\u001b[39;00m \u001b[39mNone\u001b[39;00m:\n\u001b[1;32m--> 245\u001b[0m     old_sigint_handler(\u001b[39m*\u001b[39;49mhandler_args)\n",
      "\u001b[1;31mKeyboardInterrupt\u001b[0m: "
     ]
    }
   ],
   "source": [
    "printDerivativeMethod_averagedSpeedMethod(expCementPaste, [\"cp16\"], expConcrete, [\"c20\"], 1)"
   ]
  },
  {
   "attachments": {},
   "cell_type": "markdown",
   "metadata": {},
   "source": [
    "Get average values of activation energy between degrees of advancement for derivative method"
   ]
  },
  {
   "cell_type": "code",
   "execution_count": null,
   "metadata": {},
   "outputs": [],
   "source": [
    "intervalForDegrees = [0.05,0.4]\n",
    "activationEnergyKeyword = \"c20\"\n",
    "experiment = expConcrete\n",
    "\n",
    "sum = 0\n",
    "iter = 0\n",
    "for point in experiment.activationEnergy_DerivativeMethod[activationEnergyKeyword]:\n",
    "    if point[0] > intervalForDegrees[0] and point[0] < intervalForDegrees[1]:\n",
    "        sum = sum + point[1]\n",
    "        iter = iter + 1\n",
    "\n",
    "averageEa = sum/iter\n",
    "print(averageEa)"
   ]
  },
  {
   "attachments": {},
   "cell_type": "markdown",
   "metadata": {},
   "source": [
    "# Derivative of degree of advancement"
   ]
  },
  {
   "cell_type": "code",
   "execution_count": null,
   "metadata": {},
   "outputs": [],
   "source": [
    "def printDerivative(expCementPaste, expConcrete, densityFactor):\n",
    "    #Print all data\n",
    "    fig, ax1 = plt.subplots(figsize=(7.45*cm, 8*cm))\n",
    "    fig.set_tight_layout(True)\n",
    "    for specimen in expCementPaste.testSpecimensList:\n",
    "        x=specimen.fittedAdvancementDegree\n",
    "        y=specimen.fittedDerivativeAdvancementDegree\n",
    "        ax1.plot(x[::densityFactor],y[::densityFactor], label=specimen.specimenID)\n",
    "    for specimen in expConcrete.testSpecimensList:\n",
    "        x=specimen.fittedAdvancementDegree\n",
    "        y=specimen.fittedDerivativeAdvancementDegree\n",
    "        ax1.plot(x[::densityFactor],y[::densityFactor], \"--\", label=specimen.specimenID)\n",
    "    #plt.semilogx()\n",
    "    ax1.set_xlabel(\"Degree of advancement (-)\")\n",
    "    ax1.set_ylabel(\"Derivative\\nof degree of advancement (-)\")\n",
    "    h1, l1 = ax1.get_legend_handles_labels()\n",
    "    leg=ax1.legend(h1, l1, loc=\"upper right\")\n",
    "    ax1.grid(which='both', axis='both', linestyle='-', color='whitesmoke') \n",
    "    plt.show()"
   ]
  },
  {
   "cell_type": "code",
   "execution_count": null,
   "metadata": {},
   "outputs": [],
   "source": [
    "printDerivative(expCementPaste, expConcrete, 1)"
   ]
  },
  {
   "attachments": {},
   "cell_type": "markdown",
   "metadata": {},
   "source": [
    "# 4.6 - Arrhenius plots"
   ]
  },
  {
   "attachments": {},
   "cell_type": "markdown",
   "metadata": {},
   "source": [
    "Auxiliar function"
   ]
  },
  {
   "cell_type": "code",
   "execution_count": null,
   "metadata": {},
   "outputs": [],
   "source": [
    "def printGfunction_derivativeMethod(experiment, curvesToDisplay, degreesToDisplay):\n",
    "    #Print all data\n",
    "    import numpy as np\n",
    "    from labellines import labelLine, labelLines\n",
    "\n",
    "    fig, ax1 = plt.subplots(figsize=(15*cm, 15*cm))\n",
    "    fig.set_tight_layout(True)\n",
    "    R=8.31446261815324/1000 #Universal gas constant\n",
    "\n",
    "    #Plot derivative method\n",
    "    for specimen in experiment.activationEnergy_DerivativeMethod:\n",
    "        if specimen in curvesToDisplay:\n",
    "            #Select activation energy series to process \n",
    "            activationEnergySeries = experiment.activationEnergy_DerivativeMethod[specimen]\n",
    "            #Select the indices containing the degrees of advancement to be displayed\n",
    "            displayDegreesIndices = []\n",
    "            degreeSeries = np.array([dataPoint[0] for dataPoint in activationEnergySeries])\n",
    "            for targetDegree in degreesToDisplay:\n",
    "                displayDegreesIndices.append((np.abs(degreeSeries - targetDegree)).argmin())\n",
    "            for index in displayDegreesIndices:\n",
    "                #Get the experimental data points\n",
    "                x=activationEnergySeries[index][3][0]\n",
    "                y=activationEnergySeries[index][3][1]\n",
    "                #Get fitted curve\n",
    "                def arrheniusCurve(X, Eact, C):\n",
    "                    return C - (Eact/R)*X\n",
    "                #minX=1/(max(x)*1.05+273.15)\n",
    "                #maxX=1/(min(x)*0.95+273.15)\n",
    "                minX=min(x)\n",
    "                maxX=max(x)\n",
    "                curvePointsX = np.arange(minX,maxX,(maxX-minX)/100)\n",
    "                curvePointsY = arrheniusCurve(curvePointsX,activationEnergySeries[index][1],activationEnergySeries[index][2])\n",
    "                #Plot the fitted curve and label\n",
    "                #ax1.plot(curvePointsX[::densityFactor],curvePointsY[::densityFactor], label=\"α={:.2f}/r={:.3f}\".format(activationEnergySeries[index][0],activationEnergySeries[index][4]))\n",
    "                ax1.plot(curvePointsX[::densityFactor],curvePointsY[::densityFactor], label=\"α={:.2f}\".format(activationEnergySeries[index][0]))\n",
    "                #Plot the experimental data points\n",
    "                #ax1.scatter([1/(point+273.15) for point in x],y,label=None)\n",
    "                ax1.scatter(x,y,label=None)\n",
    "\n",
    "    # Set the x-axis ticks\n",
    "    ax1.get_xticks()\n",
    "    \n",
    "    # Define the tick label formatting function\n",
    "    def format_func(value, tick_number):\n",
    "        return f\"{(1/value)-273.15:.0f}⁻¹\"         \n",
    "    # Use FuncFormatter to apply the formatting function to the ticks\n",
    "    ax1.xaxis.set_major_formatter(ticker.FuncFormatter(format_func))\n",
    "\n",
    "    ax1.set_xlabel(\"1/T (°C$^{-1}$)\")\n",
    "    ax1.set_ylabel(r'ln($\\dfrac{dα_e}{dt}$)')\n",
    "    #ax1.set_yscale('log')\n",
    "    labelLines(ax1.get_lines(), xvals=(minX, maxX), zorder=2.5)\n",
    "    (min_xlim,max_xlim)=ax1.get_xlim()\n",
    "    ax1.set_xlim(0.99*min_xlim,1.01*max_xlim)\n",
    "    plt.show()"
   ]
  },
  {
   "attachments": {},
   "cell_type": "markdown",
   "metadata": {},
   "source": [
    "Plot a Arrhenius plot from 20% to 80% degree of advancement for cement paste"
   ]
  },
  {
   "cell_type": "code",
   "execution_count": null,
   "metadata": {},
   "outputs": [],
   "source": [
    "import numpy as np\n",
    "printGfunction_derivativeMethod(expCementPaste, [\"cp16\"], np.arange(0.2,0.80,0.05))"
   ]
  },
  {
   "attachments": {},
   "cell_type": "markdown",
   "metadata": {},
   "source": [
    "Plot a Arrhenius plot from 35% to 90% degree of advancement for concrete"
   ]
  },
  {
   "cell_type": "code",
   "execution_count": null,
   "metadata": {},
   "outputs": [],
   "source": [
    "import numpy as np\n",
    "printGfunction_derivativeMethod(expConcrete, [\"c20\"], np.arange(0.35,0.95,0.05))"
   ]
  },
  {
   "cell_type": "code",
   "execution_count": null,
   "metadata": {},
   "outputs": [],
   "source": [
    "import numpy as np\n",
    "printGfunction_derivativeMethod(expConcrete, [\"c20\"], np.arange(0.04,0.14,0.01))"
   ]
  },
  {
   "attachments": {},
   "cell_type": "markdown",
   "metadata": {},
   "source": [
    "Draw the full Arrhenius plot from 1/T = 0 to an arbitrary large T"
   ]
  },
  {
   "cell_type": "code",
   "execution_count": null,
   "metadata": {},
   "outputs": [],
   "source": [
    "def printFullArrheniusPlot(experiment, curvesToDisplay, degreesToDisplay, zoom=True):\n",
    "    #Print all data\n",
    "    import numpy as np\n",
    "\n",
    "    fig, ax1 = plt.subplots(figsize=(15*cm, 15*cm))\n",
    "    if zoom==True:\n",
    "        axins2 = ax1.inset_axes([0.1, 0.1, 0.5, 0.5]) \n",
    "\n",
    "    fig.set_tight_layout(True)\n",
    "    R=8.31446261815324/1000 #Universal gas constant\n",
    "\n",
    "    #Plot derivative method\n",
    "    interceptValue = []\n",
    "    for specimen in experiment.activationEnergy_DerivativeMethod:\n",
    "        if specimen in curvesToDisplay:\n",
    "            #Select activation energy series to process \n",
    "            activationEnergySeries = experiment.activationEnergy_DerivativeMethod[specimen]\n",
    "            #Select the indices containing the degrees of advancement to be displayed\n",
    "            displayDegreesIndices = []\n",
    "            degreeSeries = np.array([dataPoint[0] for dataPoint in activationEnergySeries])\n",
    "            for targetDegree in degreesToDisplay:\n",
    "                displayDegreesIndices.append((np.abs(degreeSeries - targetDegree)).argmin())\n",
    "            for index in displayDegreesIndices:\n",
    "                #Get the experimental data points\n",
    "                x=activationEnergySeries[index][3][0]\n",
    "                y=activationEnergySeries[index][3][1]\n",
    "                #Get fitted curve\n",
    "                def arrheniusCurve(X, Eact, C):\n",
    "                    return C - (Eact/R)*X\n",
    "                #minX=1/(max(x)*1.05+273.15)\n",
    "                #maxX=1/(min(x)*0.95+273.15)\n",
    "                #minX=min(x)\n",
    "                #maxX=max(x)\n",
    "                minX=0\n",
    "                maxX=100\n",
    "                interceptValue.append(activationEnergySeries[index][2])\n",
    "                curvePointsX = np.arange(minX,maxX,(maxX-minX)/10000)\n",
    "                curvePointsY = arrheniusCurve(curvePointsX,activationEnergySeries[index][1],activationEnergySeries[index][2])\n",
    "                #Plot the fitted curve and label\n",
    "                #ax1.plot(curvePointsX[::densityFactor],curvePointsY[::densityFactor], label=\"α={:.2f}/r={:.3f}\".format(activationEnergySeries[index][0],activationEnergySeries[index][4]))\n",
    "                ax1.plot(curvePointsX[::densityFactor],curvePointsY[::densityFactor], label=\"α={:.2f}\".format(activationEnergySeries[index][0]))\n",
    "                #Plot the experimental data points\n",
    "                #ax1.scatter([1/(point+273.15) for point in x],y,label=None)\n",
    "                if zoom==True:\n",
    "                    axins2.scatter(curvePointsX[::densityFactor],curvePointsY[::densityFactor], label=None)\n",
    "                \n",
    "    if zoom==True:\n",
    "        axins2.set_ylim(1.2*min(interceptValue),1.2*max(interceptValue)) \n",
    "        axins2.set_xlim(-.01,0.01)\n",
    "    # Set the x-axis ticks\n",
    "    ax1.get_xticks()\n",
    "\n",
    "    '''\n",
    "    # Define the tick label formatting function\n",
    "    def format_func(value, tick_number):\n",
    "        return f\"{(1/value)-273.15:.0f}⁻¹\"         \n",
    "    # Use FuncFormatter to apply the formatting function to the ticks\n",
    "    ax1.xaxis.set_major_formatter(ticker.FuncFormatter(format_func))\n",
    "    '''\n",
    "    ax1.indicate_inset_zoom(axins2, edgecolor=\"grey\")\n",
    "    ax1.set_xlabel(\"1/T (°C$^{-1}$)\")\n",
    "    ax1.set_ylabel(r'ln($\\dfrac{dα_e}{dt}$)')\n",
    "    #ax1.set_yscale('log')\n",
    "    (min_xlim,max_xlim)=ax1.get_xlim()\n",
    "    ax1.set_xlim(0.99*min_xlim,1.01*max_xlim)\n",
    "    plt.show()"
   ]
  },
  {
   "cell_type": "code",
   "execution_count": null,
   "metadata": {},
   "outputs": [],
   "source": [
    "import numpy as np\n",
    "printFullArrheniusPlot(expCementPaste, [\"cp16\"], np.arange(0.01,1,0.01))"
   ]
  },
  {
   "attachments": {},
   "cell_type": "markdown",
   "metadata": {},
   "source": [
    "# Plot degree of advancement VS r-value"
   ]
  },
  {
   "cell_type": "code",
   "execution_count": null,
   "metadata": {},
   "outputs": [],
   "source": [
    "specimen_paste=\"cp16\"\n",
    "specimen_concrete=\"c20\"\n",
    "firstPoint=0\n",
    "densityFactot=1\n",
    "\n",
    "fig, ax1 = plt.subplots(figsize=(15*cm, 9*cm))\n",
    "fig.set_tight_layout(True)\n",
    "x=[]\n",
    "y=[]\n",
    "for index in expCementPaste.activationEnergy_DerivativeMethod[specimen_paste]:\n",
    "    #Get the experimental data points\n",
    "    x.append(index[0])\n",
    "    y.append(index[4])\n",
    "    #Get fitted curve\n",
    "ax1.plot(x[firstPoint::densityFactor],y[firstPoint::densityFactor], label=\"Cement paste\")\n",
    "\n",
    "#Plot insets graphs\n",
    "axins = ax1.inset_axes([0.775, 0.5, 0.195, 0.465])\n",
    "axins.plot(x[firstPoint::densityFactor],y[firstPoint::densityFactor])\n",
    "axins.set_ylim([-.8,0.1])\n",
    "axins.set_yticks([-0.8,-0.50,0,0.1])\n",
    "#axins.set_yticklabels(['zero','two','four','six'])\n",
    "axins.set_xlim([0.6,1])\n",
    "axins.indicate_inset_zoom(axins, edgecolor=\"grey\")\n",
    "axins.grid(which='both', axis='both', linestyle='-', color='whitesmoke') \n",
    "\n",
    "x=[]\n",
    "y=[]\n",
    "for index in expConcrete.activationEnergy_DerivativeMethod[specimen_concrete]:\n",
    "    #Get the experimental data points\n",
    "    x.append(index[0])\n",
    "    y.append(index[4])\n",
    "    #Get fitted curve\n",
    "ax1.plot(x[firstPoint::densityFactor],y[firstPoint::densityFactor], label=\"Concrete\")\n",
    "\n",
    "#Since cement paste r goes to zero, lets \n",
    "ax1.set_xlabel(\"Degree of advancement\")\n",
    "ax1.set_ylabel(\"Coefficient of correlation\")\n",
    "#ax1.set_yscale('log')\n",
    "ax1.set_ylim(-1,-.8)\n",
    "ax1.set_xlim(0,1)\n",
    "ax1.grid(which='both', axis='both', linestyle='-', color='whitesmoke') \n",
    "h1, l1 = ax1.get_legend_handles_labels()\n",
    "ax1.legend(h1, l1, loc='upper center', bbox_to_anchor=(0.45, -0.20),\n",
    "          frameon=False, ncol=2)\n",
    "plt.show()"
   ]
  },
  {
   "attachments": {},
   "cell_type": "markdown",
   "metadata": {},
   "source": [
    "# Degree of advancement VS constant Arrhenius"
   ]
  },
  {
   "cell_type": "code",
   "execution_count": null,
   "metadata": {},
   "outputs": [],
   "source": [
    "def constantArrheniusPlot(experiment,specimen, normalize=True, y_limits=None, firstPoint=0, densityFactor=1):\n",
    "    import numpy as np\n",
    "    import matplotlib.ticker as mticker\n",
    "\n",
    "    fig, ax1 = plt.subplots(figsize=(7.45*cm, 8*cm))\n",
    "    fig.set_tight_layout(True)\n",
    "    x=[]\n",
    "    y=[]\n",
    "    for index in experiment.activationEnergy_DerivativeMethod[specimen]:\n",
    "        #Get the experimental data points\n",
    "        x.append(index[0])\n",
    "        y.append(np.exp(index[2]))\n",
    "        #Get fitted curve\n",
    "    if normalize==True:\n",
    "        #Get indices of values that are within a selected range of degree of advancement\n",
    "        indices = [idx for idx,val in enumerate(x) if val < 0.7 and val > 0.05]\n",
    "        #Get the maximum y value within that range\n",
    "        normalizingValue = max([value for index, value in enumerate(y) if index in indices])\n",
    "    else:\n",
    "        normalizingValue=1\n",
    "    #Normalize y\n",
    "    y_norm = [point/normalizingValue for point in y]\n",
    "    ax1.scatter(x[firstPoint::densityFactor],y_norm[firstPoint::densityFactor], label=\"Cement paste\")\n",
    "\n",
    "    ax1.set_xlabel(\"Degree of advancement (-)\")\n",
    "    ax1.set_ylabel(\"C-constant (s$^{-1}$)\")\n",
    "    #ax1.set_yscale('log')\n",
    "    if normalize == True:\n",
    "        ax1.set_ylim(0,1)\n",
    "    else:\n",
    "        formatter = ticker.ScalarFormatter(useMathText=True)\n",
    "        formatter.set_scientific(True) \n",
    "        formatter.set_powerlimits((-1,1)) \n",
    "        ax1.yaxis.set_major_formatter(formatter) \n",
    "        #ax1.ticklabel_format(axis=\"y\", style = \"sci\", scilimits=(1,1))\n",
    "    if y_limits is not None and normalize is not True:\n",
    "        ax1.set_ylim(y_limits[0],y_limits[1])\n",
    "    \n",
    "    ax1.set_xlim(0,1)\n",
    "    ax1.grid(which='both', axis='both', linestyle='-', color='whitesmoke') \n",
    "    plt.show()"
   ]
  },
  {
   "attachments": {},
   "cell_type": "markdown",
   "metadata": {},
   "source": [
    "Cement paste"
   ]
  },
  {
   "cell_type": "code",
   "execution_count": null,
   "metadata": {},
   "outputs": [],
   "source": [
    "constantArrheniusPlot(expCementPaste,\"cp16\", normalize=True, firstPoint=0, densityFactor=1)"
   ]
  },
  {
   "attachments": {},
   "cell_type": "markdown",
   "metadata": {},
   "source": [
    "Concrete"
   ]
  },
  {
   "cell_type": "code",
   "execution_count": null,
   "metadata": {},
   "outputs": [],
   "source": [
    "constantArrheniusPlot(expConcrete,\"c40\", normalize=True, y_limits=[0,1.15e9], firstPoint=0, densityFactor=1)"
   ]
  },
  {
   "attachments": {},
   "cell_type": "markdown",
   "metadata": {},
   "source": [
    "# Normalized derivative of degree of advancement"
   ]
  },
  {
   "attachments": {},
   "cell_type": "markdown",
   "metadata": {},
   "source": [
    "This computation is inspired in the normalized curves of Reinhardt, H. W., Blaauwendraad, J., & Jongendijk, J. (1982). Temperature development in concrete structures taking account of state dependent properties. International Conference of Concrete at Early Ages, 211–218."
   ]
  },
  {
   "cell_type": "code",
   "execution_count": null,
   "metadata": {},
   "outputs": [],
   "source": [
    "def printNormalizedDerivative(experiment, densityFactor):\n",
    "    #Print all data\n",
    "    fig, ax1 = plt.subplots(figsize=(7.45*cm, 8*cm))\n",
    "    fig.set_tight_layout(True)\n",
    "    for specimen in experiment.testSpecimensList:\n",
    "        x=specimen.fittedAdvancementDegree\n",
    "        y=specimen.fittedDerivativeAdvancementDegree/max(specimen.fittedDerivativeAdvancementDegree)\n",
    "        ax1.plot(x[::densityFactor],y[::densityFactor], label=specimen.specimenID)\n",
    "    #plt.semilogx()\n",
    "    ax1.set_xlabel(\"Degree of advancement (-)\")\n",
    "    ax1.set_ylabel(\"Normalized derivative\\nof degree of advancement (-)\")\n",
    "    ax1.set_xlim([0,1])\n",
    "    ax1.set_ylim([0,1.05])\n",
    "    h1, l1 = ax1.get_legend_handles_labels()\n",
    "    leg=ax1.legend(h1, l1, loc=\"upper right\")\n",
    "    ax1.grid(which='both', axis='both', linestyle='-', color='whitesmoke') \n",
    "    plt.show()"
   ]
  },
  {
   "attachments": {},
   "cell_type": "markdown",
   "metadata": {},
   "source": [
    "Cement paste"
   ]
  },
  {
   "cell_type": "code",
   "execution_count": null,
   "metadata": {},
   "outputs": [],
   "source": [
    "printNormalizedDerivative(expCementPaste, densityFactor)"
   ]
  },
  {
   "attachments": {},
   "cell_type": "markdown",
   "metadata": {},
   "source": [
    "Concrete"
   ]
  },
  {
   "cell_type": "code",
   "execution_count": null,
   "metadata": {},
   "outputs": [],
   "source": [
    "printNormalizedDerivative(expConcrete, densityFactor)"
   ]
  },
  {
   "attachments": {},
   "cell_type": "markdown",
   "metadata": {},
   "source": [
    "Plot the normalized degree according to the model with the Arrhenius constant estimate"
   ]
  },
  {
   "cell_type": "code",
   "execution_count": null,
   "metadata": {},
   "outputs": [],
   "source": [
    "def printNormalizedDerivativeAndArrheniusConstant(experiment, specimenKeyword, densityFactor, rangeDegreeNorm=[0.05,0.7], y_limits=None):\n",
    "    #Print all data\n",
    "    fig, ax1 = plt.subplots(figsize=(8*cm, 10*cm))\n",
    "    fig.set_tight_layout(True)\n",
    "\n",
    "    for specimen in experiment.testSpecimensList:\n",
    "        x=specimen.fittedAdvancementDegree\n",
    "        y=specimen.fittedDerivativeAdvancementDegree/max(specimen.fittedDerivativeAdvancementDegree)\n",
    "        ax1.plot(x[::densityFactor],y[::densityFactor], label=specimen.specimenID)\n",
    "    #plt.semilogx()\n",
    "    ax1.set_xlabel(\"Degree of advancement (-)\")\n",
    "    ax1.set_ylabel(\"Normalized derivative (-)\")\n",
    "    ax1.set_xlim([0,1])\n",
    "    ax1.set_ylim([0,1.3])\n",
    "    ax1.grid(which='both', axis='both', linestyle='-', color='whitesmoke') \n",
    "    \n",
    "    ax2=ax1.twinx()\n",
    "\n",
    "    #Now, print Arrhenius constant\n",
    "    x=[]\n",
    "    y=[]\n",
    "    for index in experiment.activationEnergy_DerivativeMethod[specimenKeyword]:\n",
    "        #Get the experimental data points\n",
    "        x.append(index[0])\n",
    "        y.append(np.exp(index[2]))\n",
    "        #Get fitted curve\n",
    "\n",
    "    # get the current color palette\n",
    "    color_palette = matplotlib.rcParams['axes.prop_cycle'].by_key()['color']\n",
    "    # extract the fourth color\n",
    "    color = color_palette[3]\n",
    "\n",
    "    ax2.scatter(x[::densityFactor],y[::densityFactor], label=\"C-constant\", marker='^', s=20, color=color, alpha=0.5)\n",
    "\n",
    "    ax2.set_xlabel(\"Degree of advancement (-)\")\n",
    "    ax2.set_ylabel(\"C-constant (s$^{-1}$)\")\n",
    "    #ax1.set_yscale('log')\n",
    "    if y_limits is not None:\n",
    "        ax2.set_ylim(y_limits[0],y_limits[1])\n",
    "    ax2.yaxis.major.formatter._useMathText = True\n",
    "\n",
    "    #ax2.set_ylim(0,1)\n",
    "        \n",
    "    h1, l1 = ax1.get_legend_handles_labels()\n",
    "    h2, l2 = ax2.get_legend_handles_labels()\n",
    "    ax1.grid(which='both', axis='both', linestyle='-', color='whitesmoke') \n",
    "    \n",
    "    ax1.legend(h1+h2, l1+l2, loc='upper center', bbox_to_anchor=(0.45, -0.20),\n",
    "          frameon=False, ncol=2)\n",
    "    \n",
    "    plt.show()\n"
   ]
  },
  {
   "cell_type": "code",
   "execution_count": null,
   "metadata": {},
   "outputs": [],
   "source": [
    "printNormalizedDerivativeAndArrheniusConstant(expCementPaste, \"cp16\", densityFactor, y_limits=[0,2.4e7])"
   ]
  },
  {
   "cell_type": "code",
   "execution_count": null,
   "metadata": {},
   "outputs": [],
   "source": [
    "printNormalizedDerivativeAndArrheniusConstant(expConcrete, \"c30\", densityFactor, y_limits=[0,1.15e9], rangeDegreeNorm=[0.2,0.3])"
   ]
  },
  {
   "attachments": {},
   "cell_type": "markdown",
   "metadata": {},
   "source": [
    "# Equivalent age"
   ]
  },
  {
   "attachments": {},
   "cell_type": "markdown",
   "metadata": {},
   "source": [
    "Mixed plot with cement paste and concrete. First, select the appropriate activation energy series. Then, compute the equivalent age. Finally, build the plot."
   ]
  },
  {
   "cell_type": "code",
   "execution_count": null,
   "metadata": {},
   "outputs": [],
   "source": [
    "def printEquivalentAge(expCementPaste, expConcrete, whatToPlot, semilogScale=True):\n",
    "    #Print all data\n",
    "    fig, ax1 = plt.subplots(figsize=(15*cm, 8*cm))\n",
    "    fig.set_tight_layout(True)\n",
    "    for specimen in expCementPaste.testSpecimensList:\n",
    "        x=specimen.equivalentAge\n",
    "        if whatToPlot == \"degree\":\n",
    "            #Check the length of equivalentAge\n",
    "            #Depending on how it was computed, small degrees could have been disregarded\n",
    "            #And so its length is smaller than fittedAdvancementDegree and fittedElasticModulus (both of equal length)\n",
    "            if len(specimen.equivalentAge)<len(specimen.fittedAdvancementDegree):\n",
    "                startIndex=len(specimen.fittedAdvancementDegree)-len(specimen.equivalentAge)\n",
    "                y=specimen.fittedAdvancementDegree[startIndex:]\n",
    "            else:\n",
    "                y=specimen.fittedAdvancementDegree\n",
    "        else:\n",
    "            #Check the length of equivalentAge\n",
    "            #Depending on how it was computed, small degrees could have been disregarded\n",
    "            #And so its length is smaller than fittedAdvancementDegree and fittedElasticModulus (both of equal length)\n",
    "            if len(specimen.equivalentAge)<len(specimen.fittedElasticModulus):\n",
    "                startIndex=len(specimen.fittedElasticModulus)-len(specimen.equivalentAge)\n",
    "                y=specimen.fittedElasticModulus[startIndex:]\n",
    "            else:\n",
    "                y=specimen.fittedElasticModulus\n",
    "        ax1.plot(x,y, label=specimen.specimenID)\n",
    "\n",
    "    if whatToPlot == \"modulus\":\n",
    "        ax2 = ax1.twinx()\n",
    "\n",
    "    for specimen in expConcrete.testSpecimensList:\n",
    "        x=specimen.equivalentAge\n",
    "        if whatToPlot == \"degree\":\n",
    "            #Check the length of equivalentAge\n",
    "            #Depending on how it was computed, small degrees could have been disregarded\n",
    "            #And so its length is smaller than fittedAdvancementDegree and fittedElasticModulus (both of equal length)\n",
    "            if len(specimen.equivalentAge)<len(specimen.fittedAdvancementDegree):\n",
    "                startIndex=len(specimen.fittedAdvancementDegree)-len(specimen.equivalentAge)\n",
    "                y=specimen.fittedAdvancementDegree[startIndex:]\n",
    "            else:\n",
    "                y=specimen.fittedAdvancementDegree\n",
    "            ax1.plot(x,y, '--', label=specimen.specimenID)\n",
    "        else:\n",
    "            #Check the length of equivalentAge\n",
    "            #Depending on how it was computed, small degrees could have been disregarded\n",
    "            #And so its length is smaller than fittedAdvancementDegree and fittedElasticModulus (both of equal length)\n",
    "            if len(specimen.equivalentAge)<len(specimen.fittedElasticModulus):\n",
    "                startIndex=len(specimen.fittedElasticModulus)-len(specimen.equivalentAge)\n",
    "                y=specimen.fittedElasticModulus[startIndex:]\n",
    "            else:\n",
    "                y=specimen.fittedElasticModulus\n",
    "            ax2.plot(x,y, '--', label=specimen.specimenID)\n",
    "\n",
    "    if semilogScale is True:\n",
    "        plt.semilogx()\n",
    "    ax1.set_xlabel(\"Equivalent age (days)\")\n",
    "    h1, l1 = ax1.get_legend_handles_labels()\n",
    "    if whatToPlot == \"degree\":\n",
    "        ax1.set_ylabel(\"Degree of advancement (-)\")\n",
    "        ax1.set_ylim([0,1.05])\n",
    "        leg=ax1.legend(h1, l1, loc=\"upper left\")\n",
    "    else:\n",
    "        ax1.set_ylabel(\"Cement paste E-modulus (GPa)\")\n",
    "        ax2.set_ylabel(\"Concrete E-modulus (GPa)\")     \n",
    "        ax1.set_ylim([0,10])\n",
    "        ax2.set_ylim([0,40])\n",
    "        h2, l2 = ax2.get_legend_handles_labels()\n",
    "        leg=ax1.legend(h1+h2, l1+l2, loc=\"upper left\")\n",
    "    \n",
    "    ax1.grid(which='both', axis='both', linestyle='-', color='whitesmoke') \n",
    "    plt.show()"
   ]
  },
  {
   "attachments": {},
   "cell_type": "markdown",
   "metadata": {},
   "source": [
    "Compute equivalent age for all specimens using the Derivative Method"
   ]
  },
  {
   "cell_type": "code",
   "execution_count": null,
   "metadata": {},
   "outputs": [],
   "source": [
    "thresholdValue=1e-9\n",
    "Tref=25\n",
    "\n",
    "activationEnergySeries=expCementPaste.getActivationEnergySeries_DerivativeMethod(\"cp16\")\n",
    "EMMcp16.computeEquivalentAge(activationEnergySeries,Tref, thresholdDegree=thresholdValue)\n",
    "EMMcp31.computeEquivalentAge(activationEnergySeries,Tref, thresholdDegree=thresholdValue)\n",
    "EMMcp40.computeEquivalentAge(activationEnergySeries,Tref, thresholdDegree=thresholdValue)\n",
    "\n",
    "thresholdValue=1e-5\n",
    "activationEnergySeries=expConcrete.getActivationEnergySeries_DerivativeMethod(\"c20\")\n",
    "EMMc20.computeEquivalentAge(activationEnergySeries,Tref, thresholdDegree=thresholdValue)\n",
    "EMMc30.computeEquivalentAge(activationEnergySeries,Tref, thresholdDegree=thresholdValue)\n",
    "EMMc40.computeEquivalentAge(activationEnergySeries,Tref, thresholdDegree=thresholdValue)\n",
    "\n",
    "printEquivalentAge(expCementPaste, expConcrete, \"degree\", semilogScale=True)"
   ]
  },
  {
   "attachments": {},
   "cell_type": "markdown",
   "metadata": {},
   "source": [
    "Compute equivalent age for all specimens using the Speed Method"
   ]
  },
  {
   "cell_type": "code",
   "execution_count": null,
   "metadata": {},
   "outputs": [],
   "source": [
    "Tref=16\n",
    "activationEnergySeries=expCementPaste.getActivationEnergySeries_SpeedMethod(\"cp16-cp31\")\n",
    "EMMcp16.computeEquivalentAge(activationEnergySeries,Tref, thresholdDegree=thresholdValue)\n",
    "thresholdValue = 0.05 #This value was manually tested to provide the best visual results with the below configuration\n",
    "EMMcp31.computeEquivalentAge(activationEnergySeries,Tref, thresholdDegree=thresholdValue)\n",
    "activationEnergySeries=expCementPaste.getActivationEnergySeries_SpeedMethod(\"cp16-cp40\")\n",
    "thresholdValue = 1e-9 #This value was manually tested to provide the best visual results with the below configuration\n",
    "EMMcp40.computeEquivalentAge(activationEnergySeries,Tref, thresholdDegree=thresholdValue)\n",
    "\n",
    "Tref = 20\n",
    "activationEnergySeries=expConcrete.getActivationEnergySeries_SpeedMethod(\"c20-c30\")\n",
    "EMMc20.computeEquivalentAge(activationEnergySeries,Tref, thresholdDegree=thresholdValue)\n",
    "thresholdValue = 1e-5 #This value was manually tested to provide the best visual results with the below configuration\n",
    "EMMc30.computeEquivalentAge(activationEnergySeries,Tref, thresholdDegree=thresholdValue)\n",
    "activationEnergySeries=expConcrete.getActivationEnergySeries_SpeedMethod(\"c20-c40\")\n",
    "thresholdValue = 0.02 #This value was manually tested to provide the best visual results with the below configuration\n",
    "EMMc40.computeEquivalentAge(activationEnergySeries,Tref, thresholdDegree=thresholdValue)\n",
    "\n",
    "printEquivalentAge(expCementPaste, expConcrete, \"degree\", semilogScale=True)"
   ]
  },
  {
   "attachments": {},
   "cell_type": "markdown",
   "metadata": {},
   "source": [
    "Plot degree of advancement VS equivalent age"
   ]
  },
  {
   "cell_type": "code",
   "execution_count": null,
   "metadata": {},
   "outputs": [],
   "source": [
    "printEquivalentAge(expCementPaste, expConcrete, \"degree\", semilogScale=True)"
   ]
  },
  {
   "attachments": {},
   "cell_type": "markdown",
   "metadata": {},
   "source": [
    "Plot E-modulus VS equivalent age"
   ]
  },
  {
   "cell_type": "code",
   "execution_count": null,
   "metadata": {},
   "outputs": [],
   "source": [
    "printEquivalentAge(expCementPaste, expConcrete, \"modulus\")"
   ]
  },
  {
   "attachments": {},
   "cell_type": "markdown",
   "metadata": {},
   "source": [
    "# Analytical study on the e-modulus evolution function"
   ]
  },
  {
   "attachments": {},
   "cell_type": "markdown",
   "metadata": {},
   "source": [
    "Initial definitions"
   ]
  },
  {
   "cell_type": "code",
   "execution_count": null,
   "metadata": {},
   "outputs": [],
   "source": [
    "from sympy import *\n",
    "import numpy as np\n",
    "import matplotlib.pyplot as plt\n",
    "init_session()\n",
    "%matplotlib inline  "
   ]
  },
  {
   "attachments": {},
   "cell_type": "markdown",
   "metadata": {},
   "source": [
    "Check the parameters fitted for the materials in this work"
   ]
  },
  {
   "cell_type": "code",
   "execution_count": null,
   "metadata": {},
   "outputs": [],
   "source": [
    "for specimen in expCementPaste.testSpecimensList:\n",
    "    parameters=np.array([value for value in [specimen.fittedEquationParameters[parameter] for parameter in specimen.fittedEquationParameters]])\n",
    "    print(parameters)"
   ]
  },
  {
   "attachments": {},
   "cell_type": "markdown",
   "metadata": {},
   "source": [
    "See the second derivative of the model (with just 1 component)"
   ]
  },
  {
   "cell_type": "code",
   "execution_count": null,
   "metadata": {},
   "outputs": [],
   "source": [
    "t, a1, b1, t1, a2, b2, t2 = symbols('t a1 b1 t1 a2 b2 t2', real=True)\n",
    "f=exp(-(b1/t)**t1)\n",
    "diff((((t1*b1**t1)/(t**(t1+1)))*exp(-(b1/t)**t1)), t)"
   ]
  },
  {
   "attachments": {},
   "cell_type": "markdown",
   "metadata": {},
   "source": [
    "See the point t in which the second derivative is zero (and the derivative reaches a maximum) for a 1-component model"
   ]
  },
  {
   "cell_type": "code",
   "execution_count": null,
   "metadata": {},
   "outputs": [],
   "source": [
    "solve(diff((((t1*b1**t1)/(t**(t1+1)))*exp(-(b1/t)**t1)), t), t)"
   ]
  },
  {
   "cell_type": "code",
   "execution_count": null,
   "metadata": {},
   "outputs": [],
   "source": [
    "t, a1, b1, t1, a2, b2, t2 = symbols('t a1 b1 t1 a2 b2 t2', real=True)\n",
    "diff((a1/(a1+a2))*(((t1*b1**t1)/(t**(t1+1)))*exp(-(b1/t)**t1))+(a2/(a1+a2))*(((t2*b2**t1)/(t**(t2+1)))*exp(-(b2/t)**t2)), t)"
   ]
  },
  {
   "attachments": {},
   "cell_type": "markdown",
   "metadata": {},
   "source": [
    "See the point t in which the second derivative is zero (and the derivative reaches a maximum) for a 2-component model"
   ]
  },
  {
   "cell_type": "code",
   "execution_count": null,
   "metadata": {},
   "outputs": [],
   "source": [
    "solve(diff((a1/(a1+a2))*(((t1*b1**t1)/(t**(t1+1)))*exp(-(b1/t)**t1))+(a2/(a1+a2))*(((t2*b2**t1)/(t**(t2+1)))*exp(-(b2/t)**t2)), t), t)"
   ]
  },
  {
   "attachments": {},
   "cell_type": "markdown",
   "metadata": {},
   "source": [
    "Graphical study of the second derivative by degree of advancement "
   ]
  },
  {
   "cell_type": "code",
   "execution_count": null,
   "metadata": {},
   "outputs": [],
   "source": [
    "eq = Function('eq')\n",
    "t, a1, b1, t1, a2, b2, t2 = symbols('t a1 b1 t1 a2 b2 t2', real=True)\n",
    "f=exp(-(b1/t)**t1)\n",
    "df=diff(((b1*t1**b1)/(t**(b1+1)))*exp(-(t1/t)**b1), t)\n",
    "f_substituted = f.subs({a1: 4.52739881, b1: 1.1697434 , t1: 2.03822618, a2: 5.82439772, b2: 2.38255263, t2: 0.33734618})\n",
    "df_substituted = df.subs({a1: 4.52739881, b1: 1.1697434 , t1: 2.03822618, a2: 5.82439772, b2: 2.38255263, t2: 0.33734618})\n",
    "\n",
    "# Define a custom exponential function that works with both SymPy and NumPy\n",
    "def custom_exp(x):\n",
    "    try:\n",
    "        return exp(x)\n",
    "    except AttributeError:\n",
    "        return np.exp(x)\n",
    "\n",
    "# Create a lambdify function for y and y'\n",
    "y_func = lambdify(t, f_substituted,modules=[{'exp': custom_exp}])\n",
    "dy_dx_func = lambdify(t, df_substituted, modules=[{'exp': custom_exp}])\n",
    "\n",
    "# Evaluate y and y' at the x values\n",
    "t_vals=np.linspace(0.0001, 100, 10000)\n",
    "y_vals =  np.array([y_func(t_val) for t_val in t_vals])\n",
    "dy_dt_vals = np.array([dy_dx_func(t_val) for t_val in t_vals])\n",
    "\n",
    "# Create a plot of y vs. y'\n",
    "fig, ax = plt.subplots()\n",
    "ax.plot(y_vals, dy_dt_vals)\n",
    "ax.set_ylim(-1,1)\n",
    "ax.set_xlabel('y')\n",
    "ax.set_ylabel('y\\'')\n",
    "ax.set_title('Relationship between y and y\\'')\n",
    "plt.show()"
   ]
  },
  {
   "attachments": {},
   "cell_type": "markdown",
   "metadata": {},
   "source": [
    "Graphical study of the second derivative VS degree of advancement of two components"
   ]
  },
  {
   "cell_type": "code",
   "execution_count": null,
   "metadata": {},
   "outputs": [],
   "source": [
    "#First component\n",
    "eq = Function('eq')\n",
    "t, a1, b1, t1, a2, b2, t2 = symbols('t a1 b1 t1 a2 b2 t2', real=True)\n",
    "f=exp(-(t1/t)**b1)\n",
    "df=diff(((b1*t1**b1)/(t**(b1+1)))*exp(-(t1/t)**b1), t)\n",
    "f_substituted = f.subs({b1: 1.1697434 , t1: 2.03822618})\n",
    "df_substituted = df.subs({b1: 1.1697434 , t1: 2.03822618})\n",
    "\n",
    "# Define a custom exponential function that works with both SymPy and NumPy\n",
    "def custom_exp(x):\n",
    "    try:\n",
    "        return exp(x)\n",
    "    except AttributeError:\n",
    "        return np.exp(x)\n",
    "\n",
    "# Create a lambdify function for y and y'\n",
    "y_func = lambdify(t, f_substituted,modules=[{'exp': custom_exp}])\n",
    "dy_dx_func = lambdify(t, df_substituted, modules=[{'exp': custom_exp}])\n",
    "\n",
    "# Evaluate y and y' at the x values\n",
    "t_vals=np.linspace(0.0001, 100, 10000)\n",
    "y_vals =  np.array([y_func(t_val) for t_val in t_vals])\n",
    "dy_dt_vals = np.array([dy_dx_func(t_val) for t_val in t_vals])\n",
    "\n",
    "# Create a plot of y vs. y'\n",
    "fig, ax = plt.subplots()\n",
    "ax.plot(y_vals, dy_dt_vals, label=\"component-1\")\n",
    "\n",
    "#Detect and plot the zero crossing indices\n",
    "zero_crossings = np.where(np.diff(np.sign(dy_dt_vals)))[0]\n",
    "ax.scatter(y_vals[zero_crossings],np.zeros(len(zero_crossings)))\n",
    "\n",
    "#### Second component\n",
    "eq = Function('eq')\n",
    "t, a1, b1, t1, a2, b2, t2 = symbols('t a1 b1 t1 a2 b2 t2', real=True)\n",
    "f=exp(-(t1/t)**b1)\n",
    "df=diff(((b1*t1**b1)/(t**(b1+1)))*exp(-(t1/t)**b1), t)\n",
    "f_substituted = f.subs({b1: 2.38255263, t1: 0.33734618})\n",
    "df_substituted = df.subs({b1: 2.38255263, t1: 0.33734618})\n",
    "\n",
    "# Define a custom exponential function that works with both SymPy and NumPy\n",
    "def custom_exp(x):\n",
    "    try:\n",
    "        return exp(x)\n",
    "    except AttributeError:\n",
    "        return np.exp(x)\n",
    "\n",
    "# Create a lambdify function for y and y'\n",
    "y_func = lambdify(t, f_substituted,modules=[{'exp': custom_exp}])\n",
    "dy_dx_func = lambdify(t, df_substituted, modules=[{'exp': custom_exp}])\n",
    "\n",
    "# Evaluate y and y' at the x values\n",
    "t_vals=np.linspace(0.0001, 100, 10000)\n",
    "y_vals =  np.array([y_func(t_val) for t_val in t_vals])\n",
    "dy_dt_vals = np.array([dy_dx_func(t_val) for t_val in t_vals])\n",
    "\n",
    "# Create a plot of y vs. y'\n",
    "ax.plot(y_vals, dy_dt_vals, label=\"component-2\")\n",
    "\n",
    "#Detect and plot the zero crossing indices\n",
    "zero_crossings = np.where(np.diff(np.sign(dy_dt_vals)))[0]\n",
    "ax.scatter(y_vals[zero_crossings],np.zeros(len(zero_crossings)))\n",
    "\n",
    "ax.set_ylim(-1,1)\n",
    "ax.set_xlabel('y')\n",
    "ax.set_ylabel('y\\'')\n",
    "ax.set_title('Relationship between y and y\\'')\n",
    "plt.legend()\n",
    "plt.show()"
   ]
  },
  {
   "cell_type": "code",
   "execution_count": null,
   "metadata": {},
   "outputs": [],
   "source": [
    "parameters=[np.NaN for specimen in expCementPaste.testSpecimensList] \n",
    "for index, specimen in enumerate(expCementPaste.testSpecimensList):\n",
    "    parameters[index]=np.array([value for value in [specimen.fittedEquationParameters[parameter] for parameter in specimen.fittedEquationParameters]])\n",
    "\n",
    "def normalizedDerivativeDegree (t, parameters):\n",
    "    α1=parameters[0]\n",
    "    β1=parameters[1]\n",
    "    𝜏1=parameters[2]\n",
    "    α2=parameters[3]\n",
    "    β2=parameters[4]\n",
    "    𝜏2=parameters[5]\n",
    "    degrees = (α1/(α1+α2))*np.exp(-(𝜏1/t)**β1)+(α2/(α1+α2))*np.exp(-(𝜏2/t)**β2)\n",
    "    derivative = (α1/(α1+α2))*((β1*𝜏1**β1)/(t**(β1+1)))*np.exp(-(𝜏1/t)**β1)+(α1/(α1+α2))*((β2*𝜏2**β1)/(t**(β2+1)))*np.exp(-(𝜏2/t)**β2)\n",
    "    return degrees, derivative\n",
    "\n",
    "degrees, normalizedDerivative = normalizedDerivativeDegree(np.arange(0,1000,0.01), parameters[0])\n",
    "\n",
    "plt.plot(degrees, normalizedDerivative)\n",
    "plt.show()"
   ]
  },
  {
   "attachments": {},
   "cell_type": "markdown",
   "metadata": {},
   "source": [
    "### Parametric analysis of the influence of model parameters in the features of the derivative of the model"
   ]
  },
  {
   "cell_type": "code",
   "execution_count": null,
   "metadata": {},
   "outputs": [],
   "source": [
    "import numpy as np\n",
    "import matplotlib.pyplot as plt\n",
    "\n",
    "def normalizedDerivativeDegree (t, parameters):\n",
    "    α1=parameters[0]\n",
    "    β1=parameters[1]\n",
    "    𝜏1=parameters[2]\n",
    "    degrees = np.exp(-(𝜏1/t)**β1)\n",
    "    derivative = ((β1*𝜏1**β1)/(t**(β1+1)))*np.exp(-(𝜏1/t)**β1)\n",
    "    return degrees, derivative"
   ]
  },
  {
   "attachments": {},
   "cell_type": "markdown",
   "metadata": {},
   "source": [
    "Varying tau"
   ]
  },
  {
   "cell_type": "code",
   "execution_count": null,
   "metadata": {},
   "outputs": [],
   "source": [
    "#Definition of the model parameters\n",
    "parametricTau = np.linspace(1.1,5,10)\n",
    "β=1.2\n",
    "α=10\n",
    "\n",
    "for 𝜏 in parametricTau:\n",
    "    parameters=[α,β,𝜏]\n",
    "    degrees, derivative = normalizedDerivativeDegree(np.arange(0.001,1000,0.01), parameters)\n",
    "    normValue=max(derivative)\n",
    "    normalizedDerivative = [value/normValue for value in derivative]\n",
    "    plt.plot(degrees, normalizedDerivative, label=r'$\\tau$='+\"{:.2f}\".format(𝜏))\n",
    "plt.legend()\n",
    "plt.show()"
   ]
  },
  {
   "attachments": {},
   "cell_type": "markdown",
   "metadata": {},
   "source": [
    "Varying beta"
   ]
  },
  {
   "cell_type": "code",
   "execution_count": null,
   "metadata": {},
   "outputs": [],
   "source": [
    "#Definition of the model parameters\n",
    "parametricBeta = np.linspace(0.5,1,10)\n",
    "𝜏=1.2\n",
    "α=10\n",
    "\n",
    "for β in parametricBeta:\n",
    "    parameters=[α,β,𝜏]\n",
    "    degrees, derivative = normalizedDerivativeDegree(np.arange(0.001,1000,0.01), parameters)\n",
    "    normValue=max(derivative)\n",
    "    normalizedDerivative = [value/normValue for value in derivative]\n",
    "    plt.plot(degrees, normalizedDerivative, label=\"β=\"+\"{:.2f}\".format(β))\n",
    "plt.legend()\n",
    "plt.show()"
   ]
  },
  {
   "attachments": {},
   "cell_type": "markdown",
   "metadata": {},
   "source": [
    "# Understanding the meaning of activation energy"
   ]
  },
  {
   "cell_type": "code",
   "execution_count": null,
   "metadata": {},
   "outputs": [],
   "source": [
    "import numpy as np\n",
    "\n",
    "def arrheniusLaw (A, Ea, R, T): \n",
    "    return A*np.exp(-Ea/(R*T))"
   ]
  },
  {
   "cell_type": "code",
   "execution_count": null,
   "metadata": {},
   "outputs": [],
   "source": [
    "#Build a temperature list T\n",
    "T = np.linspace(0,1000, num=1000)\n",
    "#Build an activation energy list Ea\n",
    "Ea = np.linspace(0,10,num=10)\n",
    "#Build rate list rate\n",
    "rate = np.zeros((len(Ea), len(T)))\n",
    "for index, Eai in enumerate(Ea):\n",
    "    rate[index,:] = np.array([arrheniusLaw(1,Eai,1,Ti) for Ti in T])\n",
    "\n",
    "import matplotlib.pyplot as plt\n",
    "\n",
    "for index, Eai in enumerate(Ea):\n",
    "    plt.plot(T, rate[index,:], label=\"Ea=\"+str(Eai))\n",
    "\n",
    "plt.xlabel(\"Temperature\")\n",
    "plt.ylabel(\"Process rate\")\n",
    "plt.legend()\n",
    "plt.show()"
   ]
  }
 ],
 "metadata": {
  "kernelspec": {
   "display_name": "Python 3",
   "language": "python",
   "name": "python3"
  },
  "language_info": {
   "codemirror_mode": {
    "name": "ipython",
    "version": 3
   },
   "file_extension": ".py",
   "mimetype": "text/x-python",
   "name": "python",
   "nbconvert_exporter": "python",
   "pygments_lexer": "ipython3",
   "version": "3.11.3"
  },
  "orig_nbformat": 4
 },
 "nbformat": 4,
 "nbformat_minor": 2
}
